{
  "cells": [
    {
      "cell_type": "markdown",
      "metadata": {
        "id": "view-in-github",
        "colab_type": "text"
      },
      "source": [
        "<a href=\"https://colab.research.google.com/github/Mkdittak/COGS108_Repo/blob/main/EDACheckpoint_Group146_WI25.ipynb\" target=\"_parent\"><img src=\"https://colab.research.google.com/assets/colab-badge.svg\" alt=\"Open In Colab\"/></a>"
      ]
    },
    {
      "cell_type": "markdown",
      "metadata": {
        "id": "E7ssYRj1mwhT"
      },
      "source": [
        "# COGS 108 - EDA Checkpoint"
      ]
    },
    {
      "cell_type": "markdown",
      "metadata": {
        "id": "I6uduMiBmwhT"
      },
      "source": [
        "# Names\n",
        "\n",
        "- Mukund Dittakavi\n",
        "- Bohang Kang\n",
        "- Mark Sui\n",
        "- Tianyu Li\n",
        "- Pranshu Gupta"
      ]
    },
    {
      "cell_type": "markdown",
      "metadata": {
        "id": "bANsXx_ymwhT"
      },
      "source": [
        "# Research Question"
      ]
    },
    {
      "cell_type": "markdown",
      "metadata": {
        "id": "Vk38iHlimwhT"
      },
      "source": [
        "How does fluctuation in the VIX index relate to the S&P500 (<15%) during 2000-2020?"
      ]
    },
    {
      "cell_type": "markdown",
      "metadata": {
        "id": "-EXwv4UWmwhT"
      },
      "source": [
        "## Background and Prior Work"
      ]
    },
    {
      "cell_type": "markdown",
      "metadata": {
        "id": "LIpz0X-lmwhU"
      },
      "source": [
        "Financial markets are inherently volatile, and understanding the dynamics of volatility is crucial for investors, traders, and policymakers. Market volatility influences investment decisions, risk management strategies, and economic policy responses (Whaley, 2000).<a name=\"cite_ref-1\"></a>[<sup>1</sup>](#cite_note-1) The VIX Index, often referred to as the \"fear gauge,\" measures the market's expectation of 21-day volatility based on S&P 500 index options(Cboe, 2023).<a name=\"cite_ref-2\"></a>[<sup>2</sup>](#cite_note-2) It is widely used as a barometer of investor sentiment and market stress. Higher VIX values typically indicate increased investor uncertainty and potential market downturns, while lower values suggest stability (Carr & Wu, 2006).<a name=\"cite_ref-3\"></a>[<sup>3</sup>](#cite_note-3)\n",
        "\n",
        "While the VIX is a widely used barometer of investor sentiment, it does not capture the stability or instability of volatility. The VVIX Index, or the \"volatility of volatility,\" measures the expected volatility of the VIX itself, providing deeper insights into how uncertain investors are about future volatility (Mixon, 2020), making it a key risk indicator beyond just overall market fear. Research has shown that sharp increases in VVIX often precede major spikes in market volatility, suggesting that it can serve as an early warning signal for extreme market events (Wang et al., 2019).\n",
        "\n",
        "\n",
        "This study examines the relationship between fluctuations in the VIX and in the S&P 500, specifically declines of 15% or more. A drawdown of this magnitude represents a substantial market correction, often triggering portfolio rebalancing, margin calls, and potential central bank intervention. Historically, such drawdowns have been observed in major market stress events, including:\n",
        "\n",
        "- The 2000-2002 Dot-Com Crash, when speculative technology stocks collapsed, leading to prolonged declines.\n",
        "\n",
        "- The 2008 Global Financial Crisis, where the failure of major financial institutions caused the S&P 500 to drop over 50%.\n",
        "\n",
        "- The Great Depression, Watergate\n",
        "\n",
        "- The 2020 COVID-19 Crash, which saw the fastest recorded market decline due to economic shutdowns and uncertainty.\n",
        "\n",
        "Previous research has examined the predictive power of volatility indices in financial markets. Studies such as Anderson et al. (2011)<a name=\"cite_ref-4\"></a>[<sup>4</sup>](#cite_note-4) have explored different lookback periods for volatility estimation, highlighting how shorter lookback periods may capture sharp fluctuations while longer periods smooth out noise and reveal broader trends. However, there is no clear consensus on the optimal time horizon for predicting major market downturns. Moreover, existing research has not thoroughly examined the behavior of VIX with the S&P 500 downturns of 15% or more between 2001 and 2020. Additionally, we will evaluate the effectiveness of when exactly to determine the most informative window for predicting market declines.\n",
        "\n",
        "By building on prior research while focusing on a recent timeframe and explicitly incorporating VIX dynamics, our work aims to provide new insights into how traders and policymakers can leverage volatility indices to anticipate and mitigate the impact of market downturns.\n",
        "\n",
        "**References**:\n",
        "\n",
        "[“Journal of Portfolio Management” Whaley, R. E. (2000)](https://imf.primo.exlibrisgroup.com/discovery/openurl?institution=01TIMF_INST&rfr_id=info:sid%252Fprimo.exlibrisgroup.com-bX-Bx&rfr_id=info:sid%2Fprimo.exlibrisgroup.com-13728536-Bx&rft_val_fmt=info:ofi%2Ffmt:kev:mtx:&rft.epage=17&rft.volume=26&rft_id=info:doi%2F&resource_type=article&rft.isbn_list=&rft.jtitle=Journal%20of%20portfolio%20management&rft.genre=article&rft.issue=3&rft.auinit1=R&rft.aulast=Whaley&rft.auinit=RE&rft.date=2000&rft.eisbn_list=&rft.spage=12&rft.au=Whaley,%20Robert%20E&rft.atitle=The%20investor%20fear%20gauge&rft.issn=0095-4918&rft.eissn=2168-8656&svc_dat=CTO&vid=01TIMF_INST:Shared&lang=en\n",
        ")\n",
        "\n",
        "\n",
        "[“Cboe Volatility Index (VIX)” Cboe Global Markets. (2023)](https://www.google.com/search?q=cboe+volatility+index&sca_esv=91ff5b52226c0a0a&source=hp&ei=FdrPZ_DPEsrbkPIPt4rBiQQ&iflsig=ACkRmUkAAAAAZ8_oJVBptBNeMJ2rc5QtvSSi83CWWgkf&oq=cboe+&gs_lp=Egdnd3Mtd2l6IgVjYm9lICoCCAAyCxAAGIAEGLEDGIMBMgsQABiABBixAxiDATIREC4YgAQYsQMY0QMYgwEYxwEyCxAuGIAEGNEDGMcBMgUQABiABDIFEAAYgAQyBRAAGIAEMgUQABiABDIFEAAYgAQyBRAAGIAESPQNUABYhwRwAHgAkAEAmAGSAaABwwSqAQMyLjO4AQPIAQD4AQGYAgWgAvEEwgIIEAAYgAQYsQPCAg4QLhiABBixAxjRAxjHAcICDhAuGIAEGLEDGIMBGIoFwgIFEC4YgATCAhEQLhiABBixAxiDARjHARivAcICBBAAGAPCAgoQABiABBixAxgKwgINEC4YgAQYsQMY5QQYCpgDAJIHAzIuM6AHmTw&sclient=gws-wiz)\n",
        "\n",
        "[“Journal of Derivatives, 13” Carr P. & Wu L. (2006)](https://www.pm-research.com/content/iijderiv/13/3/13)\n",
        "\n",
        "[“VVIX and Future Market Volatility” Wang et al. (2019)](https://www.sciencedirect.com/science/article/abs/pii/S0378437119311392)\n",
        "\n",
        "[\"Will My Risk Parity Strategy Outperform?\" Anderson et al. (2011)](https://eml.berkeley.edu/~anderson/risk%20parity111111.pdf)\n",
        "\n",
        "\n",
        "\n",
        "\n",
        "\n"
      ]
    },
    {
      "cell_type": "markdown",
      "metadata": {
        "id": "zcUunNo0mwhU"
      },
      "source": [
        "# Hypothesis\n"
      ]
    },
    {
      "cell_type": "markdown",
      "metadata": {
        "id": "uJ2Yh-F0mwhV"
      },
      "source": [
        "\n",
        "We hypothesize that the volatility of the  market (i.e., increase in VIX closing) correlates with a decrease in the S&P 500 at a score of -0.1. This is simply due to human nature. The increase in market volatility is due to an increase in options purchased. Options are purchased to diversify portfolios and reduce losses in case the market fails, reflecting their faith in the market. Since a surplus of options bought is an indication of high volatility and consequently high volatility of volatility, the S&P 500 should decrease. The fear of a volatile market consequently causes a decrease in the S&P500.\n",
        "We hypothesize that volatility clusters, as we predict that if the market is highly volatile today, it is also likely to be highly volatile tomorrow."
      ]
    },
    {
      "cell_type": "markdown",
      "metadata": {
        "id": "nC16sdTgmwhV"
      },
      "source": [
        "## Data overview\n",
        "\n",
        "For each dataset include the following information\n",
        "- Dataset #1\n",
        "  - Dataset Name: Historical Data for Cboe VIX® Index and Other Volatility Indices\n",
        "  - Link: [VIX](https://www.cboe.com/tradable_products/vix/vix_historical_data/)\n",
        "  - Number of observations: 1281\n",
        "  - Number of variables: 2\n",
        "  - The dataset shows market expectations of stock movement over 30 days. Higher VIX means more fear in the market.\n",
        "- Dataset #2\n",
        "  - Dataset Name: Cboe VIX of VIX Index (VVIX℠)\n",
        "  - Link: [VVIX℠](https://https://www.cboe.com/tradable_products/vix/vix_historical_data/)\n",
        "  - Number of observations: 1280\n",
        "  - Number of variables: 2\n",
        "  - The dataset tracks the volatility of the VIX itself, indicating market uncertainty about future volatility.\n",
        "- Dataset #3\n",
        "  - Dataset Name: S&P 500 Index\n",
        "  - Link: [S&P500](https://www.nasdaq.com/market-activity/index/spx/historical )\n",
        "  - Number of observations: 1245\n",
        "  - Number of variables: 5\n",
        "  - This dataset contains daily prices of the S&P 500 index from 2020 to 2025. We use the columns include Date, Close/Last, Open, High, and Low as the key for our project. Mainly we used the Close/Last column which shows the index’s closing price and reflects overall market performance. The data was cleaned by filtering for trading days only excluding weekends and U.S. holidays and aligning it and will merge with VIX and VVIX datasets.\n",
        "\n",
        "\n",
        "\n",
        "If you plan to use multiple datasets, add a few sentences about how you plan to combine these datasets."
      ]
    },
    {
      "cell_type": "markdown",
      "source": [
        "**Setup**"
      ],
      "metadata": {
        "id": "9mZG7Ok8sj12"
      }
    },
    {
      "cell_type": "markdown",
      "source": [],
      "metadata": {
        "id": "Aq_YSkKAlnlQ"
      }
    },
    {
      "cell_type": "code",
      "source": [
        "import pandas as pd\n",
        "import numpy as np\n",
        "import matplotlib.pyplot as plt\n",
        "import seaborn as sns\n",
        "from statsmodels.tsa.stattools import acf"
      ],
      "metadata": {
        "id": "Kb8TkhdhstoJ"
      },
      "execution_count": 199,
      "outputs": []
    },
    {
      "cell_type": "markdown",
      "metadata": {
        "id": "RdnYd1WsmwhV"
      },
      "source": [
        "## VIX Dataset"
      ]
    },
    {
      "cell_type": "code",
      "source": [
        "import os\n",
        "\n",
        "file_path = r'C:\\Users\\mukun\\OneDrive\\Desktop\\cogs 108 pj\\VIX_History.csv'\n",
        "print(\"File exists:\", os.path.exists(file_path))"
      ],
      "metadata": {
        "colab": {
          "base_uri": "https://localhost:8080/"
        },
        "id": "YtUF3IMRFmpw",
        "outputId": "ee9c9d77-490e-4cb3-a6e2-a1c31fb1a035"
      },
      "execution_count": 200,
      "outputs": [
        {
          "output_type": "stream",
          "name": "stdout",
          "text": [
            "File exists: False\n"
          ]
        }
      ]
    },
    {
      "cell_type": "code",
      "execution_count": 201,
      "metadata": {
        "colab": {
          "base_uri": "https://localhost:8080/",
          "height": 455
        },
        "id": "XXl2baInmwhW",
        "outputId": "0731a754-7b67-4a8a-bb34-c57d11b89b33"
      },
      "outputs": [
        {
          "output_type": "execute_result",
          "data": {
            "text/plain": [
              "            VIX_Close\n",
              "DATE                 \n",
              "2001-02-01      21.66\n",
              "2001-02-02      21.95\n",
              "2001-02-05      22.19\n",
              "2001-02-06      21.98\n",
              "2001-02-07      21.67\n",
              "...               ...\n",
              "2020-10-29      37.59\n",
              "2020-10-30      38.02\n",
              "2020-11-02      37.13\n",
              "2020-11-03      35.55\n",
              "2020-11-04      29.57\n",
              "\n",
              "[4973 rows x 1 columns]"
            ],
            "text/html": [
              "\n",
              "  <div id=\"df-76cc0bc9-bcfd-4412-b6ef-a6f252002ab4\" class=\"colab-df-container\">\n",
              "    <div>\n",
              "<style scoped>\n",
              "    .dataframe tbody tr th:only-of-type {\n",
              "        vertical-align: middle;\n",
              "    }\n",
              "\n",
              "    .dataframe tbody tr th {\n",
              "        vertical-align: top;\n",
              "    }\n",
              "\n",
              "    .dataframe thead th {\n",
              "        text-align: right;\n",
              "    }\n",
              "</style>\n",
              "<table border=\"1\" class=\"dataframe\">\n",
              "  <thead>\n",
              "    <tr style=\"text-align: right;\">\n",
              "      <th></th>\n",
              "      <th>VIX_Close</th>\n",
              "    </tr>\n",
              "    <tr>\n",
              "      <th>DATE</th>\n",
              "      <th></th>\n",
              "    </tr>\n",
              "  </thead>\n",
              "  <tbody>\n",
              "    <tr>\n",
              "      <th>2001-02-01</th>\n",
              "      <td>21.66</td>\n",
              "    </tr>\n",
              "    <tr>\n",
              "      <th>2001-02-02</th>\n",
              "      <td>21.95</td>\n",
              "    </tr>\n",
              "    <tr>\n",
              "      <th>2001-02-05</th>\n",
              "      <td>22.19</td>\n",
              "    </tr>\n",
              "    <tr>\n",
              "      <th>2001-02-06</th>\n",
              "      <td>21.98</td>\n",
              "    </tr>\n",
              "    <tr>\n",
              "      <th>2001-02-07</th>\n",
              "      <td>21.67</td>\n",
              "    </tr>\n",
              "    <tr>\n",
              "      <th>...</th>\n",
              "      <td>...</td>\n",
              "    </tr>\n",
              "    <tr>\n",
              "      <th>2020-10-29</th>\n",
              "      <td>37.59</td>\n",
              "    </tr>\n",
              "    <tr>\n",
              "      <th>2020-10-30</th>\n",
              "      <td>38.02</td>\n",
              "    </tr>\n",
              "    <tr>\n",
              "      <th>2020-11-02</th>\n",
              "      <td>37.13</td>\n",
              "    </tr>\n",
              "    <tr>\n",
              "      <th>2020-11-03</th>\n",
              "      <td>35.55</td>\n",
              "    </tr>\n",
              "    <tr>\n",
              "      <th>2020-11-04</th>\n",
              "      <td>29.57</td>\n",
              "    </tr>\n",
              "  </tbody>\n",
              "</table>\n",
              "<p>4973 rows × 1 columns</p>\n",
              "</div>\n",
              "    <div class=\"colab-df-buttons\">\n",
              "\n",
              "  <div class=\"colab-df-container\">\n",
              "    <button class=\"colab-df-convert\" onclick=\"convertToInteractive('df-76cc0bc9-bcfd-4412-b6ef-a6f252002ab4')\"\n",
              "            title=\"Convert this dataframe to an interactive table.\"\n",
              "            style=\"display:none;\">\n",
              "\n",
              "  <svg xmlns=\"http://www.w3.org/2000/svg\" height=\"24px\" viewBox=\"0 -960 960 960\">\n",
              "    <path d=\"M120-120v-720h720v720H120Zm60-500h600v-160H180v160Zm220 220h160v-160H400v160Zm0 220h160v-160H400v160ZM180-400h160v-160H180v160Zm440 0h160v-160H620v160ZM180-180h160v-160H180v160Zm440 0h160v-160H620v160Z\"/>\n",
              "  </svg>\n",
              "    </button>\n",
              "\n",
              "  <style>\n",
              "    .colab-df-container {\n",
              "      display:flex;\n",
              "      gap: 12px;\n",
              "    }\n",
              "\n",
              "    .colab-df-convert {\n",
              "      background-color: #E8F0FE;\n",
              "      border: none;\n",
              "      border-radius: 50%;\n",
              "      cursor: pointer;\n",
              "      display: none;\n",
              "      fill: #1967D2;\n",
              "      height: 32px;\n",
              "      padding: 0 0 0 0;\n",
              "      width: 32px;\n",
              "    }\n",
              "\n",
              "    .colab-df-convert:hover {\n",
              "      background-color: #E2EBFA;\n",
              "      box-shadow: 0px 1px 2px rgba(60, 64, 67, 0.3), 0px 1px 3px 1px rgba(60, 64, 67, 0.15);\n",
              "      fill: #174EA6;\n",
              "    }\n",
              "\n",
              "    .colab-df-buttons div {\n",
              "      margin-bottom: 4px;\n",
              "    }\n",
              "\n",
              "    [theme=dark] .colab-df-convert {\n",
              "      background-color: #3B4455;\n",
              "      fill: #D2E3FC;\n",
              "    }\n",
              "\n",
              "    [theme=dark] .colab-df-convert:hover {\n",
              "      background-color: #434B5C;\n",
              "      box-shadow: 0px 1px 3px 1px rgba(0, 0, 0, 0.15);\n",
              "      filter: drop-shadow(0px 1px 2px rgba(0, 0, 0, 0.3));\n",
              "      fill: #FFFFFF;\n",
              "    }\n",
              "  </style>\n",
              "\n",
              "    <script>\n",
              "      const buttonEl =\n",
              "        document.querySelector('#df-76cc0bc9-bcfd-4412-b6ef-a6f252002ab4 button.colab-df-convert');\n",
              "      buttonEl.style.display =\n",
              "        google.colab.kernel.accessAllowed ? 'block' : 'none';\n",
              "\n",
              "      async function convertToInteractive(key) {\n",
              "        const element = document.querySelector('#df-76cc0bc9-bcfd-4412-b6ef-a6f252002ab4');\n",
              "        const dataTable =\n",
              "          await google.colab.kernel.invokeFunction('convertToInteractive',\n",
              "                                                    [key], {});\n",
              "        if (!dataTable) return;\n",
              "\n",
              "        const docLinkHtml = 'Like what you see? Visit the ' +\n",
              "          '<a target=\"_blank\" href=https://colab.research.google.com/notebooks/data_table.ipynb>data table notebook</a>'\n",
              "          + ' to learn more about interactive tables.';\n",
              "        element.innerHTML = '';\n",
              "        dataTable['output_type'] = 'display_data';\n",
              "        await google.colab.output.renderOutput(dataTable, element);\n",
              "        const docLink = document.createElement('div');\n",
              "        docLink.innerHTML = docLinkHtml;\n",
              "        element.appendChild(docLink);\n",
              "      }\n",
              "    </script>\n",
              "  </div>\n",
              "\n",
              "\n",
              "<div id=\"df-88f6636a-a30a-4f05-b008-2f71a90469c9\">\n",
              "  <button class=\"colab-df-quickchart\" onclick=\"quickchart('df-88f6636a-a30a-4f05-b008-2f71a90469c9')\"\n",
              "            title=\"Suggest charts\"\n",
              "            style=\"display:none;\">\n",
              "\n",
              "<svg xmlns=\"http://www.w3.org/2000/svg\" height=\"24px\"viewBox=\"0 0 24 24\"\n",
              "     width=\"24px\">\n",
              "    <g>\n",
              "        <path d=\"M19 3H5c-1.1 0-2 .9-2 2v14c0 1.1.9 2 2 2h14c1.1 0 2-.9 2-2V5c0-1.1-.9-2-2-2zM9 17H7v-7h2v7zm4 0h-2V7h2v10zm4 0h-2v-4h2v4z\"/>\n",
              "    </g>\n",
              "</svg>\n",
              "  </button>\n",
              "\n",
              "<style>\n",
              "  .colab-df-quickchart {\n",
              "      --bg-color: #E8F0FE;\n",
              "      --fill-color: #1967D2;\n",
              "      --hover-bg-color: #E2EBFA;\n",
              "      --hover-fill-color: #174EA6;\n",
              "      --disabled-fill-color: #AAA;\n",
              "      --disabled-bg-color: #DDD;\n",
              "  }\n",
              "\n",
              "  [theme=dark] .colab-df-quickchart {\n",
              "      --bg-color: #3B4455;\n",
              "      --fill-color: #D2E3FC;\n",
              "      --hover-bg-color: #434B5C;\n",
              "      --hover-fill-color: #FFFFFF;\n",
              "      --disabled-bg-color: #3B4455;\n",
              "      --disabled-fill-color: #666;\n",
              "  }\n",
              "\n",
              "  .colab-df-quickchart {\n",
              "    background-color: var(--bg-color);\n",
              "    border: none;\n",
              "    border-radius: 50%;\n",
              "    cursor: pointer;\n",
              "    display: none;\n",
              "    fill: var(--fill-color);\n",
              "    height: 32px;\n",
              "    padding: 0;\n",
              "    width: 32px;\n",
              "  }\n",
              "\n",
              "  .colab-df-quickchart:hover {\n",
              "    background-color: var(--hover-bg-color);\n",
              "    box-shadow: 0 1px 2px rgba(60, 64, 67, 0.3), 0 1px 3px 1px rgba(60, 64, 67, 0.15);\n",
              "    fill: var(--button-hover-fill-color);\n",
              "  }\n",
              "\n",
              "  .colab-df-quickchart-complete:disabled,\n",
              "  .colab-df-quickchart-complete:disabled:hover {\n",
              "    background-color: var(--disabled-bg-color);\n",
              "    fill: var(--disabled-fill-color);\n",
              "    box-shadow: none;\n",
              "  }\n",
              "\n",
              "  .colab-df-spinner {\n",
              "    border: 2px solid var(--fill-color);\n",
              "    border-color: transparent;\n",
              "    border-bottom-color: var(--fill-color);\n",
              "    animation:\n",
              "      spin 1s steps(1) infinite;\n",
              "  }\n",
              "\n",
              "  @keyframes spin {\n",
              "    0% {\n",
              "      border-color: transparent;\n",
              "      border-bottom-color: var(--fill-color);\n",
              "      border-left-color: var(--fill-color);\n",
              "    }\n",
              "    20% {\n",
              "      border-color: transparent;\n",
              "      border-left-color: var(--fill-color);\n",
              "      border-top-color: var(--fill-color);\n",
              "    }\n",
              "    30% {\n",
              "      border-color: transparent;\n",
              "      border-left-color: var(--fill-color);\n",
              "      border-top-color: var(--fill-color);\n",
              "      border-right-color: var(--fill-color);\n",
              "    }\n",
              "    40% {\n",
              "      border-color: transparent;\n",
              "      border-right-color: var(--fill-color);\n",
              "      border-top-color: var(--fill-color);\n",
              "    }\n",
              "    60% {\n",
              "      border-color: transparent;\n",
              "      border-right-color: var(--fill-color);\n",
              "    }\n",
              "    80% {\n",
              "      border-color: transparent;\n",
              "      border-right-color: var(--fill-color);\n",
              "      border-bottom-color: var(--fill-color);\n",
              "    }\n",
              "    90% {\n",
              "      border-color: transparent;\n",
              "      border-bottom-color: var(--fill-color);\n",
              "    }\n",
              "  }\n",
              "</style>\n",
              "\n",
              "  <script>\n",
              "    async function quickchart(key) {\n",
              "      const quickchartButtonEl =\n",
              "        document.querySelector('#' + key + ' button');\n",
              "      quickchartButtonEl.disabled = true;  // To prevent multiple clicks.\n",
              "      quickchartButtonEl.classList.add('colab-df-spinner');\n",
              "      try {\n",
              "        const charts = await google.colab.kernel.invokeFunction(\n",
              "            'suggestCharts', [key], {});\n",
              "      } catch (error) {\n",
              "        console.error('Error during call to suggestCharts:', error);\n",
              "      }\n",
              "      quickchartButtonEl.classList.remove('colab-df-spinner');\n",
              "      quickchartButtonEl.classList.add('colab-df-quickchart-complete');\n",
              "    }\n",
              "    (() => {\n",
              "      let quickchartButtonEl =\n",
              "        document.querySelector('#df-88f6636a-a30a-4f05-b008-2f71a90469c9 button');\n",
              "      quickchartButtonEl.style.display =\n",
              "        google.colab.kernel.accessAllowed ? 'block' : 'none';\n",
              "    })();\n",
              "  </script>\n",
              "</div>\n",
              "\n",
              "  <div id=\"id_c9f943cb-1c98-46c5-a298-666e7e8dac3a\">\n",
              "    <style>\n",
              "      .colab-df-generate {\n",
              "        background-color: #E8F0FE;\n",
              "        border: none;\n",
              "        border-radius: 50%;\n",
              "        cursor: pointer;\n",
              "        display: none;\n",
              "        fill: #1967D2;\n",
              "        height: 32px;\n",
              "        padding: 0 0 0 0;\n",
              "        width: 32px;\n",
              "      }\n",
              "\n",
              "      .colab-df-generate:hover {\n",
              "        background-color: #E2EBFA;\n",
              "        box-shadow: 0px 1px 2px rgba(60, 64, 67, 0.3), 0px 1px 3px 1px rgba(60, 64, 67, 0.15);\n",
              "        fill: #174EA6;\n",
              "      }\n",
              "\n",
              "      [theme=dark] .colab-df-generate {\n",
              "        background-color: #3B4455;\n",
              "        fill: #D2E3FC;\n",
              "      }\n",
              "\n",
              "      [theme=dark] .colab-df-generate:hover {\n",
              "        background-color: #434B5C;\n",
              "        box-shadow: 0px 1px 3px 1px rgba(0, 0, 0, 0.15);\n",
              "        filter: drop-shadow(0px 1px 2px rgba(0, 0, 0, 0.3));\n",
              "        fill: #FFFFFF;\n",
              "      }\n",
              "    </style>\n",
              "    <button class=\"colab-df-generate\" onclick=\"generateWithVariable('vix_df')\"\n",
              "            title=\"Generate code using this dataframe.\"\n",
              "            style=\"display:none;\">\n",
              "\n",
              "  <svg xmlns=\"http://www.w3.org/2000/svg\" height=\"24px\"viewBox=\"0 0 24 24\"\n",
              "       width=\"24px\">\n",
              "    <path d=\"M7,19H8.4L18.45,9,17,7.55,7,17.6ZM5,21V16.75L18.45,3.32a2,2,0,0,1,2.83,0l1.4,1.43a1.91,1.91,0,0,1,.58,1.4,1.91,1.91,0,0,1-.58,1.4L9.25,21ZM18.45,9,17,7.55Zm-12,3A5.31,5.31,0,0,0,4.9,8.1,5.31,5.31,0,0,0,1,6.5,5.31,5.31,0,0,0,4.9,4.9,5.31,5.31,0,0,0,6.5,1,5.31,5.31,0,0,0,8.1,4.9,5.31,5.31,0,0,0,12,6.5,5.46,5.46,0,0,0,6.5,12Z\"/>\n",
              "  </svg>\n",
              "    </button>\n",
              "    <script>\n",
              "      (() => {\n",
              "      const buttonEl =\n",
              "        document.querySelector('#id_c9f943cb-1c98-46c5-a298-666e7e8dac3a button.colab-df-generate');\n",
              "      buttonEl.style.display =\n",
              "        google.colab.kernel.accessAllowed ? 'block' : 'none';\n",
              "\n",
              "      buttonEl.onclick = () => {\n",
              "        google.colab.notebook.generateWithVariable('vix_df');\n",
              "      }\n",
              "      })();\n",
              "    </script>\n",
              "  </div>\n",
              "\n",
              "    </div>\n",
              "  </div>\n"
            ],
            "application/vnd.google.colaboratory.intrinsic+json": {
              "type": "dataframe",
              "variable_name": "vix_df",
              "summary": "{\n  \"name\": \"vix_df\",\n  \"rows\": 4973,\n  \"fields\": [\n    {\n      \"column\": \"DATE\",\n      \"properties\": {\n        \"dtype\": \"date\",\n        \"min\": \"2001-02-01 00:00:00\",\n        \"max\": \"2020-11-04 00:00:00\",\n        \"num_unique_values\": 4973,\n        \"samples\": [\n          \"2007-06-15 00:00:00\",\n          \"2001-08-28 00:00:00\",\n          \"2018-05-29 00:00:00\"\n        ],\n        \"semantic_type\": \"\",\n        \"description\": \"\"\n      }\n    },\n    {\n      \"column\": \"VIX_Close\",\n      \"properties\": {\n        \"dtype\": \"number\",\n        \"std\": 9.138886258953628,\n        \"min\": 9.14,\n        \"max\": 82.69,\n        \"num_unique_values\": 2169,\n        \"samples\": [\n          9.67,\n          18.25,\n          23.23\n        ],\n        \"semantic_type\": \"\",\n        \"description\": \"\"\n      }\n    }\n  ]\n}"
            }
          },
          "metadata": {},
          "execution_count": 201
        }
      ],
      "source": [
        "# Importing the required library to work with data frames\n",
        "vix_df = pd.read_csv('/content/VIX_History.csv')  # Load the VIX history data from a CSV file\n",
        "vix_df = vix_df[['DATE', 'CLOSE']]  # Keep only the 'DATE' and 'CLOSE' columns\n",
        "vix_df['DATE'] = pd.to_datetime(vix_df['DATE'], format='%m/%d/%Y')  # Convert 'DATE' column to datetime\n",
        "vix_df.rename(columns={'CLOSE': 'VIX_Close'}, inplace=True)  # Rename 'CLOSE' column to 'VIX_Close'\n",
        "vix_df = vix_df[(vix_df['DATE'] >= '2001-02-01') & (vix_df['DATE'] <= '2020-11-04')]  # Filter by date range\n",
        "vix_df = vix_df.set_index(vix_df.columns[0])\n",
        "vix_df\n"
      ]
    },
    {
      "cell_type": "code",
      "source": [
        "from google.colab import drive\n",
        "drive.mount('/content/drive')"
      ],
      "metadata": {
        "id": "kFTKITaEeNn6",
        "colab": {
          "base_uri": "https://localhost:8080/"
        },
        "outputId": "1fcbcc77-14aa-4238-86ac-5cc9d2ae57f2"
      },
      "execution_count": 202,
      "outputs": [
        {
          "output_type": "stream",
          "name": "stdout",
          "text": [
            "Drive already mounted at /content/drive; to attempt to forcibly remount, call drive.mount(\"/content/drive\", force_remount=True).\n"
          ]
        }
      ]
    },
    {
      "cell_type": "markdown",
      "metadata": {
        "id": "qxYIzGc9mwhW"
      },
      "source": [
        "\n",
        "\n",
        "\n",
        "\n",
        "## VVIX Dataset"
      ]
    },
    {
      "cell_type": "code",
      "execution_count": 203,
      "metadata": {
        "colab": {
          "base_uri": "https://localhost:8080/",
          "height": 206
        },
        "id": "dn6UhVhSmwhW",
        "outputId": "0812ba2e-c034-4338-8910-8f09b47eb675"
      },
      "outputs": [
        {
          "output_type": "execute_result",
          "data": {
            "text/plain": [
              "           DATE   VVIX\n",
              "3420 2020-01-02  89.67\n",
              "3421 2020-01-03  93.79\n",
              "3422 2020-01-06  92.66\n",
              "3423 2020-01-07  91.07\n",
              "3424 2020-01-08  90.21"
            ],
            "text/html": [
              "\n",
              "  <div id=\"df-9b87b906-4f5c-45d6-bf24-a09338f51a8e\" class=\"colab-df-container\">\n",
              "    <div>\n",
              "<style scoped>\n",
              "    .dataframe tbody tr th:only-of-type {\n",
              "        vertical-align: middle;\n",
              "    }\n",
              "\n",
              "    .dataframe tbody tr th {\n",
              "        vertical-align: top;\n",
              "    }\n",
              "\n",
              "    .dataframe thead th {\n",
              "        text-align: right;\n",
              "    }\n",
              "</style>\n",
              "<table border=\"1\" class=\"dataframe\">\n",
              "  <thead>\n",
              "    <tr style=\"text-align: right;\">\n",
              "      <th></th>\n",
              "      <th>DATE</th>\n",
              "      <th>VVIX</th>\n",
              "    </tr>\n",
              "  </thead>\n",
              "  <tbody>\n",
              "    <tr>\n",
              "      <th>3420</th>\n",
              "      <td>2020-01-02</td>\n",
              "      <td>89.67</td>\n",
              "    </tr>\n",
              "    <tr>\n",
              "      <th>3421</th>\n",
              "      <td>2020-01-03</td>\n",
              "      <td>93.79</td>\n",
              "    </tr>\n",
              "    <tr>\n",
              "      <th>3422</th>\n",
              "      <td>2020-01-06</td>\n",
              "      <td>92.66</td>\n",
              "    </tr>\n",
              "    <tr>\n",
              "      <th>3423</th>\n",
              "      <td>2020-01-07</td>\n",
              "      <td>91.07</td>\n",
              "    </tr>\n",
              "    <tr>\n",
              "      <th>3424</th>\n",
              "      <td>2020-01-08</td>\n",
              "      <td>90.21</td>\n",
              "    </tr>\n",
              "  </tbody>\n",
              "</table>\n",
              "</div>\n",
              "    <div class=\"colab-df-buttons\">\n",
              "\n",
              "  <div class=\"colab-df-container\">\n",
              "    <button class=\"colab-df-convert\" onclick=\"convertToInteractive('df-9b87b906-4f5c-45d6-bf24-a09338f51a8e')\"\n",
              "            title=\"Convert this dataframe to an interactive table.\"\n",
              "            style=\"display:none;\">\n",
              "\n",
              "  <svg xmlns=\"http://www.w3.org/2000/svg\" height=\"24px\" viewBox=\"0 -960 960 960\">\n",
              "    <path d=\"M120-120v-720h720v720H120Zm60-500h600v-160H180v160Zm220 220h160v-160H400v160Zm0 220h160v-160H400v160ZM180-400h160v-160H180v160Zm440 0h160v-160H620v160ZM180-180h160v-160H180v160Zm440 0h160v-160H620v160Z\"/>\n",
              "  </svg>\n",
              "    </button>\n",
              "\n",
              "  <style>\n",
              "    .colab-df-container {\n",
              "      display:flex;\n",
              "      gap: 12px;\n",
              "    }\n",
              "\n",
              "    .colab-df-convert {\n",
              "      background-color: #E8F0FE;\n",
              "      border: none;\n",
              "      border-radius: 50%;\n",
              "      cursor: pointer;\n",
              "      display: none;\n",
              "      fill: #1967D2;\n",
              "      height: 32px;\n",
              "      padding: 0 0 0 0;\n",
              "      width: 32px;\n",
              "    }\n",
              "\n",
              "    .colab-df-convert:hover {\n",
              "      background-color: #E2EBFA;\n",
              "      box-shadow: 0px 1px 2px rgba(60, 64, 67, 0.3), 0px 1px 3px 1px rgba(60, 64, 67, 0.15);\n",
              "      fill: #174EA6;\n",
              "    }\n",
              "\n",
              "    .colab-df-buttons div {\n",
              "      margin-bottom: 4px;\n",
              "    }\n",
              "\n",
              "    [theme=dark] .colab-df-convert {\n",
              "      background-color: #3B4455;\n",
              "      fill: #D2E3FC;\n",
              "    }\n",
              "\n",
              "    [theme=dark] .colab-df-convert:hover {\n",
              "      background-color: #434B5C;\n",
              "      box-shadow: 0px 1px 3px 1px rgba(0, 0, 0, 0.15);\n",
              "      filter: drop-shadow(0px 1px 2px rgba(0, 0, 0, 0.3));\n",
              "      fill: #FFFFFF;\n",
              "    }\n",
              "  </style>\n",
              "\n",
              "    <script>\n",
              "      const buttonEl =\n",
              "        document.querySelector('#df-9b87b906-4f5c-45d6-bf24-a09338f51a8e button.colab-df-convert');\n",
              "      buttonEl.style.display =\n",
              "        google.colab.kernel.accessAllowed ? 'block' : 'none';\n",
              "\n",
              "      async function convertToInteractive(key) {\n",
              "        const element = document.querySelector('#df-9b87b906-4f5c-45d6-bf24-a09338f51a8e');\n",
              "        const dataTable =\n",
              "          await google.colab.kernel.invokeFunction('convertToInteractive',\n",
              "                                                    [key], {});\n",
              "        if (!dataTable) return;\n",
              "\n",
              "        const docLinkHtml = 'Like what you see? Visit the ' +\n",
              "          '<a target=\"_blank\" href=https://colab.research.google.com/notebooks/data_table.ipynb>data table notebook</a>'\n",
              "          + ' to learn more about interactive tables.';\n",
              "        element.innerHTML = '';\n",
              "        dataTable['output_type'] = 'display_data';\n",
              "        await google.colab.output.renderOutput(dataTable, element);\n",
              "        const docLink = document.createElement('div');\n",
              "        docLink.innerHTML = docLinkHtml;\n",
              "        element.appendChild(docLink);\n",
              "      }\n",
              "    </script>\n",
              "  </div>\n",
              "\n",
              "\n",
              "<div id=\"df-d08c255c-d2cc-464a-874c-1a70204fe8fd\">\n",
              "  <button class=\"colab-df-quickchart\" onclick=\"quickchart('df-d08c255c-d2cc-464a-874c-1a70204fe8fd')\"\n",
              "            title=\"Suggest charts\"\n",
              "            style=\"display:none;\">\n",
              "\n",
              "<svg xmlns=\"http://www.w3.org/2000/svg\" height=\"24px\"viewBox=\"0 0 24 24\"\n",
              "     width=\"24px\">\n",
              "    <g>\n",
              "        <path d=\"M19 3H5c-1.1 0-2 .9-2 2v14c0 1.1.9 2 2 2h14c1.1 0 2-.9 2-2V5c0-1.1-.9-2-2-2zM9 17H7v-7h2v7zm4 0h-2V7h2v10zm4 0h-2v-4h2v4z\"/>\n",
              "    </g>\n",
              "</svg>\n",
              "  </button>\n",
              "\n",
              "<style>\n",
              "  .colab-df-quickchart {\n",
              "      --bg-color: #E8F0FE;\n",
              "      --fill-color: #1967D2;\n",
              "      --hover-bg-color: #E2EBFA;\n",
              "      --hover-fill-color: #174EA6;\n",
              "      --disabled-fill-color: #AAA;\n",
              "      --disabled-bg-color: #DDD;\n",
              "  }\n",
              "\n",
              "  [theme=dark] .colab-df-quickchart {\n",
              "      --bg-color: #3B4455;\n",
              "      --fill-color: #D2E3FC;\n",
              "      --hover-bg-color: #434B5C;\n",
              "      --hover-fill-color: #FFFFFF;\n",
              "      --disabled-bg-color: #3B4455;\n",
              "      --disabled-fill-color: #666;\n",
              "  }\n",
              "\n",
              "  .colab-df-quickchart {\n",
              "    background-color: var(--bg-color);\n",
              "    border: none;\n",
              "    border-radius: 50%;\n",
              "    cursor: pointer;\n",
              "    display: none;\n",
              "    fill: var(--fill-color);\n",
              "    height: 32px;\n",
              "    padding: 0;\n",
              "    width: 32px;\n",
              "  }\n",
              "\n",
              "  .colab-df-quickchart:hover {\n",
              "    background-color: var(--hover-bg-color);\n",
              "    box-shadow: 0 1px 2px rgba(60, 64, 67, 0.3), 0 1px 3px 1px rgba(60, 64, 67, 0.15);\n",
              "    fill: var(--button-hover-fill-color);\n",
              "  }\n",
              "\n",
              "  .colab-df-quickchart-complete:disabled,\n",
              "  .colab-df-quickchart-complete:disabled:hover {\n",
              "    background-color: var(--disabled-bg-color);\n",
              "    fill: var(--disabled-fill-color);\n",
              "    box-shadow: none;\n",
              "  }\n",
              "\n",
              "  .colab-df-spinner {\n",
              "    border: 2px solid var(--fill-color);\n",
              "    border-color: transparent;\n",
              "    border-bottom-color: var(--fill-color);\n",
              "    animation:\n",
              "      spin 1s steps(1) infinite;\n",
              "  }\n",
              "\n",
              "  @keyframes spin {\n",
              "    0% {\n",
              "      border-color: transparent;\n",
              "      border-bottom-color: var(--fill-color);\n",
              "      border-left-color: var(--fill-color);\n",
              "    }\n",
              "    20% {\n",
              "      border-color: transparent;\n",
              "      border-left-color: var(--fill-color);\n",
              "      border-top-color: var(--fill-color);\n",
              "    }\n",
              "    30% {\n",
              "      border-color: transparent;\n",
              "      border-left-color: var(--fill-color);\n",
              "      border-top-color: var(--fill-color);\n",
              "      border-right-color: var(--fill-color);\n",
              "    }\n",
              "    40% {\n",
              "      border-color: transparent;\n",
              "      border-right-color: var(--fill-color);\n",
              "      border-top-color: var(--fill-color);\n",
              "    }\n",
              "    60% {\n",
              "      border-color: transparent;\n",
              "      border-right-color: var(--fill-color);\n",
              "    }\n",
              "    80% {\n",
              "      border-color: transparent;\n",
              "      border-right-color: var(--fill-color);\n",
              "      border-bottom-color: var(--fill-color);\n",
              "    }\n",
              "    90% {\n",
              "      border-color: transparent;\n",
              "      border-bottom-color: var(--fill-color);\n",
              "    }\n",
              "  }\n",
              "</style>\n",
              "\n",
              "  <script>\n",
              "    async function quickchart(key) {\n",
              "      const quickchartButtonEl =\n",
              "        document.querySelector('#' + key + ' button');\n",
              "      quickchartButtonEl.disabled = true;  // To prevent multiple clicks.\n",
              "      quickchartButtonEl.classList.add('colab-df-spinner');\n",
              "      try {\n",
              "        const charts = await google.colab.kernel.invokeFunction(\n",
              "            'suggestCharts', [key], {});\n",
              "      } catch (error) {\n",
              "        console.error('Error during call to suggestCharts:', error);\n",
              "      }\n",
              "      quickchartButtonEl.classList.remove('colab-df-spinner');\n",
              "      quickchartButtonEl.classList.add('colab-df-quickchart-complete');\n",
              "    }\n",
              "    (() => {\n",
              "      let quickchartButtonEl =\n",
              "        document.querySelector('#df-d08c255c-d2cc-464a-874c-1a70204fe8fd button');\n",
              "      quickchartButtonEl.style.display =\n",
              "        google.colab.kernel.accessAllowed ? 'block' : 'none';\n",
              "    })();\n",
              "  </script>\n",
              "</div>\n",
              "\n",
              "    </div>\n",
              "  </div>\n"
            ],
            "application/vnd.google.colaboratory.intrinsic+json": {
              "type": "dataframe",
              "variable_name": "vvix_df",
              "summary": "{\n  \"name\": \"vvix_df\",\n  \"rows\": 1246,\n  \"fields\": [\n    {\n      \"column\": \"DATE\",\n      \"properties\": {\n        \"dtype\": \"date\",\n        \"min\": \"2020-01-02 00:00:00\",\n        \"max\": \"2024-12-31 00:00:00\",\n        \"num_unique_values\": 1246,\n        \"samples\": [\n          \"2022-12-13 00:00:00\",\n          \"2021-10-07 00:00:00\",\n          \"2024-06-26 00:00:00\"\n        ],\n        \"semantic_type\": \"\",\n        \"description\": \"\"\n      }\n    },\n    {\n      \"column\": \"VVIX\",\n      \"properties\": {\n        \"dtype\": \"number\",\n        \"std\": 18.835220178015057,\n        \"min\": 73.26,\n        \"max\": 207.59,\n        \"num_unique_values\": 1133,\n        \"samples\": [\n          94.35,\n          84.33,\n          138.93\n        ],\n        \"semantic_type\": \"\",\n        \"description\": \"\"\n      }\n    }\n  ]\n}"
            }
          },
          "metadata": {},
          "execution_count": 203
        }
      ],
      "source": [
        "vvix_df = pd.read_csv('/content/VVIX_History.csv')\n",
        "vvix_df['DATE'] = pd.to_datetime(vvix_df['DATE'], format='%m/%d/%Y')\n",
        "vvix_df = vvix_df[(vvix_df['DATE'] >= '2020-01-01') & (vvix_df['DATE'] <= '2024-12-31')]\n",
        "\n",
        "# Filter out weekends\n",
        "vvix_df = vvix_df[vvix_df['DATE'].dt.weekday < 5]\n",
        "# Filter out holidays\n",
        "from pandas.tseries.holiday import USFederalHolidayCalendar\n",
        "calendar = USFederalHolidayCalendar()\n",
        "holidays = calendar.holidays(start='2020-01-01', end='2025-12-31')\n",
        "vvix_df = vvix_df[~vvix_df['DATE'].isin(holidays)]\n",
        "vvix_df.head()\n",
        "\n"
      ]
    },
    {
      "cell_type": "markdown",
      "source": [],
      "metadata": {
        "id": "TX8y9ziEmuTs"
      }
    },
    {
      "cell_type": "markdown",
      "metadata": {
        "id": "4joCCaVl3te7"
      },
      "source": [
        "## S&P500 Dataset"
      ]
    },
    {
      "cell_type": "code",
      "source": [
        "# we start with cleaning data of S&P index from year 2001~2020\n",
        "df = pd.read_csv('/content/SPX.csv', parse_dates=[\"Date\"])\n",
        "df.set_index(\"Date\", inplace=True)\n",
        "df = df[df.index>='2001-01-01'].copy()\n",
        "df.tail()"
      ],
      "metadata": {
        "colab": {
          "base_uri": "https://localhost:8080/",
          "height": 237
        },
        "id": "mwYOcybP3ssK",
        "outputId": "e9470d4f-12a4-4b65-a646-3c59fbd7a071"
      },
      "execution_count": 204,
      "outputs": [
        {
          "output_type": "execute_result",
          "data": {
            "text/plain": [
              "                   Open         High          Low        Close    Adj Close  \\\n",
              "Date                                                                          \n",
              "2020-10-29  3277.169922  3341.050049  3259.820068  3310.110107  3310.110107   \n",
              "2020-10-30  3293.590088  3304.929932  3233.939941  3269.959961  3269.959961   \n",
              "2020-11-02  3296.199951  3330.139893  3279.739990  3310.239990  3310.239990   \n",
              "2020-11-03  3336.250000  3389.489990  3336.250000  3369.159912  3369.159912   \n",
              "2020-11-04  3406.459961  3486.250000  3405.169922  3443.439941  3443.439941   \n",
              "\n",
              "                Volume  \n",
              "Date                    \n",
              "2020-10-29  4903070000  \n",
              "2020-10-30  4840450000  \n",
              "2020-11-02  4310590000  \n",
              "2020-11-03  4220070000  \n",
              "2020-11-04  4783040000  "
            ],
            "text/html": [
              "\n",
              "  <div id=\"df-4d03d57f-1df2-45d8-a323-8b1fc88cf738\" class=\"colab-df-container\">\n",
              "    <div>\n",
              "<style scoped>\n",
              "    .dataframe tbody tr th:only-of-type {\n",
              "        vertical-align: middle;\n",
              "    }\n",
              "\n",
              "    .dataframe tbody tr th {\n",
              "        vertical-align: top;\n",
              "    }\n",
              "\n",
              "    .dataframe thead th {\n",
              "        text-align: right;\n",
              "    }\n",
              "</style>\n",
              "<table border=\"1\" class=\"dataframe\">\n",
              "  <thead>\n",
              "    <tr style=\"text-align: right;\">\n",
              "      <th></th>\n",
              "      <th>Open</th>\n",
              "      <th>High</th>\n",
              "      <th>Low</th>\n",
              "      <th>Close</th>\n",
              "      <th>Adj Close</th>\n",
              "      <th>Volume</th>\n",
              "    </tr>\n",
              "    <tr>\n",
              "      <th>Date</th>\n",
              "      <th></th>\n",
              "      <th></th>\n",
              "      <th></th>\n",
              "      <th></th>\n",
              "      <th></th>\n",
              "      <th></th>\n",
              "    </tr>\n",
              "  </thead>\n",
              "  <tbody>\n",
              "    <tr>\n",
              "      <th>2020-10-29</th>\n",
              "      <td>3277.169922</td>\n",
              "      <td>3341.050049</td>\n",
              "      <td>3259.820068</td>\n",
              "      <td>3310.110107</td>\n",
              "      <td>3310.110107</td>\n",
              "      <td>4903070000</td>\n",
              "    </tr>\n",
              "    <tr>\n",
              "      <th>2020-10-30</th>\n",
              "      <td>3293.590088</td>\n",
              "      <td>3304.929932</td>\n",
              "      <td>3233.939941</td>\n",
              "      <td>3269.959961</td>\n",
              "      <td>3269.959961</td>\n",
              "      <td>4840450000</td>\n",
              "    </tr>\n",
              "    <tr>\n",
              "      <th>2020-11-02</th>\n",
              "      <td>3296.199951</td>\n",
              "      <td>3330.139893</td>\n",
              "      <td>3279.739990</td>\n",
              "      <td>3310.239990</td>\n",
              "      <td>3310.239990</td>\n",
              "      <td>4310590000</td>\n",
              "    </tr>\n",
              "    <tr>\n",
              "      <th>2020-11-03</th>\n",
              "      <td>3336.250000</td>\n",
              "      <td>3389.489990</td>\n",
              "      <td>3336.250000</td>\n",
              "      <td>3369.159912</td>\n",
              "      <td>3369.159912</td>\n",
              "      <td>4220070000</td>\n",
              "    </tr>\n",
              "    <tr>\n",
              "      <th>2020-11-04</th>\n",
              "      <td>3406.459961</td>\n",
              "      <td>3486.250000</td>\n",
              "      <td>3405.169922</td>\n",
              "      <td>3443.439941</td>\n",
              "      <td>3443.439941</td>\n",
              "      <td>4783040000</td>\n",
              "    </tr>\n",
              "  </tbody>\n",
              "</table>\n",
              "</div>\n",
              "    <div class=\"colab-df-buttons\">\n",
              "\n",
              "  <div class=\"colab-df-container\">\n",
              "    <button class=\"colab-df-convert\" onclick=\"convertToInteractive('df-4d03d57f-1df2-45d8-a323-8b1fc88cf738')\"\n",
              "            title=\"Convert this dataframe to an interactive table.\"\n",
              "            style=\"display:none;\">\n",
              "\n",
              "  <svg xmlns=\"http://www.w3.org/2000/svg\" height=\"24px\" viewBox=\"0 -960 960 960\">\n",
              "    <path d=\"M120-120v-720h720v720H120Zm60-500h600v-160H180v160Zm220 220h160v-160H400v160Zm0 220h160v-160H400v160ZM180-400h160v-160H180v160Zm440 0h160v-160H620v160ZM180-180h160v-160H180v160Zm440 0h160v-160H620v160Z\"/>\n",
              "  </svg>\n",
              "    </button>\n",
              "\n",
              "  <style>\n",
              "    .colab-df-container {\n",
              "      display:flex;\n",
              "      gap: 12px;\n",
              "    }\n",
              "\n",
              "    .colab-df-convert {\n",
              "      background-color: #E8F0FE;\n",
              "      border: none;\n",
              "      border-radius: 50%;\n",
              "      cursor: pointer;\n",
              "      display: none;\n",
              "      fill: #1967D2;\n",
              "      height: 32px;\n",
              "      padding: 0 0 0 0;\n",
              "      width: 32px;\n",
              "    }\n",
              "\n",
              "    .colab-df-convert:hover {\n",
              "      background-color: #E2EBFA;\n",
              "      box-shadow: 0px 1px 2px rgba(60, 64, 67, 0.3), 0px 1px 3px 1px rgba(60, 64, 67, 0.15);\n",
              "      fill: #174EA6;\n",
              "    }\n",
              "\n",
              "    .colab-df-buttons div {\n",
              "      margin-bottom: 4px;\n",
              "    }\n",
              "\n",
              "    [theme=dark] .colab-df-convert {\n",
              "      background-color: #3B4455;\n",
              "      fill: #D2E3FC;\n",
              "    }\n",
              "\n",
              "    [theme=dark] .colab-df-convert:hover {\n",
              "      background-color: #434B5C;\n",
              "      box-shadow: 0px 1px 3px 1px rgba(0, 0, 0, 0.15);\n",
              "      filter: drop-shadow(0px 1px 2px rgba(0, 0, 0, 0.3));\n",
              "      fill: #FFFFFF;\n",
              "    }\n",
              "  </style>\n",
              "\n",
              "    <script>\n",
              "      const buttonEl =\n",
              "        document.querySelector('#df-4d03d57f-1df2-45d8-a323-8b1fc88cf738 button.colab-df-convert');\n",
              "      buttonEl.style.display =\n",
              "        google.colab.kernel.accessAllowed ? 'block' : 'none';\n",
              "\n",
              "      async function convertToInteractive(key) {\n",
              "        const element = document.querySelector('#df-4d03d57f-1df2-45d8-a323-8b1fc88cf738');\n",
              "        const dataTable =\n",
              "          await google.colab.kernel.invokeFunction('convertToInteractive',\n",
              "                                                    [key], {});\n",
              "        if (!dataTable) return;\n",
              "\n",
              "        const docLinkHtml = 'Like what you see? Visit the ' +\n",
              "          '<a target=\"_blank\" href=https://colab.research.google.com/notebooks/data_table.ipynb>data table notebook</a>'\n",
              "          + ' to learn more about interactive tables.';\n",
              "        element.innerHTML = '';\n",
              "        dataTable['output_type'] = 'display_data';\n",
              "        await google.colab.output.renderOutput(dataTable, element);\n",
              "        const docLink = document.createElement('div');\n",
              "        docLink.innerHTML = docLinkHtml;\n",
              "        element.appendChild(docLink);\n",
              "      }\n",
              "    </script>\n",
              "  </div>\n",
              "\n",
              "\n",
              "<div id=\"df-2b8de80f-8eb6-4e13-8ce7-2eefb69e70d3\">\n",
              "  <button class=\"colab-df-quickchart\" onclick=\"quickchart('df-2b8de80f-8eb6-4e13-8ce7-2eefb69e70d3')\"\n",
              "            title=\"Suggest charts\"\n",
              "            style=\"display:none;\">\n",
              "\n",
              "<svg xmlns=\"http://www.w3.org/2000/svg\" height=\"24px\"viewBox=\"0 0 24 24\"\n",
              "     width=\"24px\">\n",
              "    <g>\n",
              "        <path d=\"M19 3H5c-1.1 0-2 .9-2 2v14c0 1.1.9 2 2 2h14c1.1 0 2-.9 2-2V5c0-1.1-.9-2-2-2zM9 17H7v-7h2v7zm4 0h-2V7h2v10zm4 0h-2v-4h2v4z\"/>\n",
              "    </g>\n",
              "</svg>\n",
              "  </button>\n",
              "\n",
              "<style>\n",
              "  .colab-df-quickchart {\n",
              "      --bg-color: #E8F0FE;\n",
              "      --fill-color: #1967D2;\n",
              "      --hover-bg-color: #E2EBFA;\n",
              "      --hover-fill-color: #174EA6;\n",
              "      --disabled-fill-color: #AAA;\n",
              "      --disabled-bg-color: #DDD;\n",
              "  }\n",
              "\n",
              "  [theme=dark] .colab-df-quickchart {\n",
              "      --bg-color: #3B4455;\n",
              "      --fill-color: #D2E3FC;\n",
              "      --hover-bg-color: #434B5C;\n",
              "      --hover-fill-color: #FFFFFF;\n",
              "      --disabled-bg-color: #3B4455;\n",
              "      --disabled-fill-color: #666;\n",
              "  }\n",
              "\n",
              "  .colab-df-quickchart {\n",
              "    background-color: var(--bg-color);\n",
              "    border: none;\n",
              "    border-radius: 50%;\n",
              "    cursor: pointer;\n",
              "    display: none;\n",
              "    fill: var(--fill-color);\n",
              "    height: 32px;\n",
              "    padding: 0;\n",
              "    width: 32px;\n",
              "  }\n",
              "\n",
              "  .colab-df-quickchart:hover {\n",
              "    background-color: var(--hover-bg-color);\n",
              "    box-shadow: 0 1px 2px rgba(60, 64, 67, 0.3), 0 1px 3px 1px rgba(60, 64, 67, 0.15);\n",
              "    fill: var(--button-hover-fill-color);\n",
              "  }\n",
              "\n",
              "  .colab-df-quickchart-complete:disabled,\n",
              "  .colab-df-quickchart-complete:disabled:hover {\n",
              "    background-color: var(--disabled-bg-color);\n",
              "    fill: var(--disabled-fill-color);\n",
              "    box-shadow: none;\n",
              "  }\n",
              "\n",
              "  .colab-df-spinner {\n",
              "    border: 2px solid var(--fill-color);\n",
              "    border-color: transparent;\n",
              "    border-bottom-color: var(--fill-color);\n",
              "    animation:\n",
              "      spin 1s steps(1) infinite;\n",
              "  }\n",
              "\n",
              "  @keyframes spin {\n",
              "    0% {\n",
              "      border-color: transparent;\n",
              "      border-bottom-color: var(--fill-color);\n",
              "      border-left-color: var(--fill-color);\n",
              "    }\n",
              "    20% {\n",
              "      border-color: transparent;\n",
              "      border-left-color: var(--fill-color);\n",
              "      border-top-color: var(--fill-color);\n",
              "    }\n",
              "    30% {\n",
              "      border-color: transparent;\n",
              "      border-left-color: var(--fill-color);\n",
              "      border-top-color: var(--fill-color);\n",
              "      border-right-color: var(--fill-color);\n",
              "    }\n",
              "    40% {\n",
              "      border-color: transparent;\n",
              "      border-right-color: var(--fill-color);\n",
              "      border-top-color: var(--fill-color);\n",
              "    }\n",
              "    60% {\n",
              "      border-color: transparent;\n",
              "      border-right-color: var(--fill-color);\n",
              "    }\n",
              "    80% {\n",
              "      border-color: transparent;\n",
              "      border-right-color: var(--fill-color);\n",
              "      border-bottom-color: var(--fill-color);\n",
              "    }\n",
              "    90% {\n",
              "      border-color: transparent;\n",
              "      border-bottom-color: var(--fill-color);\n",
              "    }\n",
              "  }\n",
              "</style>\n",
              "\n",
              "  <script>\n",
              "    async function quickchart(key) {\n",
              "      const quickchartButtonEl =\n",
              "        document.querySelector('#' + key + ' button');\n",
              "      quickchartButtonEl.disabled = true;  // To prevent multiple clicks.\n",
              "      quickchartButtonEl.classList.add('colab-df-spinner');\n",
              "      try {\n",
              "        const charts = await google.colab.kernel.invokeFunction(\n",
              "            'suggestCharts', [key], {});\n",
              "      } catch (error) {\n",
              "        console.error('Error during call to suggestCharts:', error);\n",
              "      }\n",
              "      quickchartButtonEl.classList.remove('colab-df-spinner');\n",
              "      quickchartButtonEl.classList.add('colab-df-quickchart-complete');\n",
              "    }\n",
              "    (() => {\n",
              "      let quickchartButtonEl =\n",
              "        document.querySelector('#df-2b8de80f-8eb6-4e13-8ce7-2eefb69e70d3 button');\n",
              "      quickchartButtonEl.style.display =\n",
              "        google.colab.kernel.accessAllowed ? 'block' : 'none';\n",
              "    })();\n",
              "  </script>\n",
              "</div>\n",
              "\n",
              "    </div>\n",
              "  </div>\n"
            ],
            "application/vnd.google.colaboratory.intrinsic+json": {
              "type": "dataframe",
              "summary": "{\n  \"name\": \"df\",\n  \"rows\": 5,\n  \"fields\": [\n    {\n      \"column\": \"Date\",\n      \"properties\": {\n        \"dtype\": \"date\",\n        \"min\": \"2020-10-29 00:00:00\",\n        \"max\": \"2020-11-04 00:00:00\",\n        \"num_unique_values\": 5,\n        \"samples\": [\n          \"2020-10-30 00:00:00\",\n          \"2020-11-04 00:00:00\",\n          \"2020-11-02 00:00:00\"\n        ],\n        \"semantic_type\": \"\",\n        \"description\": \"\"\n      }\n    },\n    {\n      \"column\": \"Open\",\n      \"properties\": {\n        \"dtype\": \"number\",\n        \"std\": 52.00727651867702,\n        \"min\": 3277.169922,\n        \"max\": 3406.459961,\n        \"num_unique_values\": 5,\n        \"samples\": [\n          3293.590088,\n          3406.459961,\n          3296.199951\n        ],\n        \"semantic_type\": \"\",\n        \"description\": \"\"\n      }\n    },\n    {\n      \"column\": \"High\",\n      \"properties\": {\n        \"dtype\": \"number\",\n        \"std\": 71.6838055872086,\n        \"min\": 3304.929932,\n        \"max\": 3486.25,\n        \"num_unique_values\": 5,\n        \"samples\": [\n          3304.929932,\n          3486.25,\n          3330.139893\n        ],\n        \"semantic_type\": \"\",\n        \"description\": \"\"\n      }\n    },\n    {\n      \"column\": \"Low\",\n      \"properties\": {\n        \"dtype\": \"number\",\n        \"std\": 68.40884540899123,\n        \"min\": 3233.939941,\n        \"max\": 3405.169922,\n        \"num_unique_values\": 5,\n        \"samples\": [\n          3233.939941,\n          3405.169922,\n          3279.73999\n        ],\n        \"semantic_type\": \"\",\n        \"description\": \"\"\n      }\n    },\n    {\n      \"column\": \"Close\",\n      \"properties\": {\n        \"dtype\": \"number\",\n        \"std\": 67.51499705139356,\n        \"min\": 3269.959961,\n        \"max\": 3443.439941,\n        \"num_unique_values\": 5,\n        \"samples\": [\n          3269.959961,\n          3443.439941,\n          3310.23999\n        ],\n        \"semantic_type\": \"\",\n        \"description\": \"\"\n      }\n    },\n    {\n      \"column\": \"Adj Close\",\n      \"properties\": {\n        \"dtype\": \"number\",\n        \"std\": 67.51499705139356,\n        \"min\": 3269.959961,\n        \"max\": 3443.439941,\n        \"num_unique_values\": 5,\n        \"samples\": [\n          3269.959961,\n          3443.439941,\n          3310.23999\n        ],\n        \"semantic_type\": \"\",\n        \"description\": \"\"\n      }\n    },\n    {\n      \"column\": \"Volume\",\n      \"properties\": {\n        \"dtype\": \"number\",\n        \"std\": 320398734,\n        \"min\": 4220070000,\n        \"max\": 4903070000,\n        \"num_unique_values\": 5,\n        \"samples\": [\n          4840450000,\n          4783040000,\n          4310590000\n        ],\n        \"semantic_type\": \"\",\n        \"description\": \"\"\n      }\n    }\n  ]\n}"
            }
          },
          "metadata": {},
          "execution_count": 204
        }
      ]
    },
    {
      "cell_type": "markdown",
      "metadata": {
        "id": "stO9xbRFmwhX"
      },
      "source": [
        "# Discussion\n",
        "\n",
        "Initially, while VVIX did seem promising regarding its use as an estimate of market volatility, due to complexity and the prevalance of NaN values in the dataset, it is much more apt to use the standard deviation of the VIX directly, as it allows for more robust calculation.\n",
        "\n",
        "## Exploratory Data Analysis\n",
        "\n"
      ]
    },
    {
      "cell_type": "markdown",
      "metadata": {
        "id": "YYqwXCbXmwhX"
      },
      "source": [
        "### Volatility Clustering and Returns\n",
        "\n",
        "Initially we clean the data for SPX - the S&P500 index and the VIX - Volatility index. We first calculate **return** - defined as the logarithm of the ratio between the Current Price and the Previous day's Price. This formula generates for simple returns.\n",
        "We are using logartithms here for additivity - this factors in compounding (where you invest money earned from previous investments)."
      ]
    },
    {
      "cell_type": "code",
      "execution_count": 205,
      "metadata": {
        "colab": {
          "base_uri": "https://localhost:8080/",
          "height": 455
        },
        "id": "yralKhe4mwhX",
        "outputId": "992e4577-28b1-4685-b73e-abad389461e0"
      },
      "outputs": [
        {
          "output_type": "execute_result",
          "data": {
            "text/plain": [
              "                   Open         High          Low        Close    Adj Close  \\\n",
              "Date                                                                          \n",
              "2001-02-01  1366.010010  1373.500000  1359.339966  1373.469971  1373.469971   \n",
              "2001-02-02  1373.469971  1376.380005  1348.719971  1349.469971  1349.469971   \n",
              "2001-02-05  1349.469971  1354.560059  1344.479980  1354.310059  1354.310059   \n",
              "2001-02-06  1354.310059  1363.550049  1350.040039  1352.260010  1352.260010   \n",
              "2001-02-07  1352.260010  1352.260010  1334.260010  1340.890015  1340.890015   \n",
              "...                 ...          ...          ...          ...          ...   \n",
              "2020-10-29  3277.169922  3341.050049  3259.820068  3310.110107  3310.110107   \n",
              "2020-10-30  3293.590088  3304.929932  3233.939941  3269.959961  3269.959961   \n",
              "2020-11-02  3296.199951  3330.139893  3279.739990  3310.239990  3310.239990   \n",
              "2020-11-03  3336.250000  3389.489990  3336.250000  3369.159912  3369.159912   \n",
              "2020-11-04  3406.459961  3486.250000  3405.169922  3443.439941  3443.439941   \n",
              "\n",
              "                Volume   Returns  Volatility  \n",
              "Date                                          \n",
              "2001-02-01  1118800000  0.005446    0.013880  \n",
              "2001-02-02  1048400000 -0.017628    0.009985  \n",
              "2001-02-05  1013000000  0.003580    0.009702  \n",
              "2001-02-06  1059600000 -0.001515    0.007452  \n",
              "2001-02-07  1158300000 -0.008444    0.007750  \n",
              "...                ...       ...         ...  \n",
              "2020-10-29  4903070000  0.011877    0.013310  \n",
              "2020-10-30  4840450000 -0.012204    0.013460  \n",
              "2020-11-02  4310590000  0.012243    0.013652  \n",
              "2020-11-03  4220070000  0.017643    0.013640  \n",
              "2020-11-04  4783040000  0.021808    0.014102  \n",
              "\n",
              "[4972 rows x 8 columns]"
            ],
            "text/html": [
              "\n",
              "  <div id=\"df-787b00bd-8497-4a95-b4b2-0975aeb05879\" class=\"colab-df-container\">\n",
              "    <div>\n",
              "<style scoped>\n",
              "    .dataframe tbody tr th:only-of-type {\n",
              "        vertical-align: middle;\n",
              "    }\n",
              "\n",
              "    .dataframe tbody tr th {\n",
              "        vertical-align: top;\n",
              "    }\n",
              "\n",
              "    .dataframe thead th {\n",
              "        text-align: right;\n",
              "    }\n",
              "</style>\n",
              "<table border=\"1\" class=\"dataframe\">\n",
              "  <thead>\n",
              "    <tr style=\"text-align: right;\">\n",
              "      <th></th>\n",
              "      <th>Open</th>\n",
              "      <th>High</th>\n",
              "      <th>Low</th>\n",
              "      <th>Close</th>\n",
              "      <th>Adj Close</th>\n",
              "      <th>Volume</th>\n",
              "      <th>Returns</th>\n",
              "      <th>Volatility</th>\n",
              "    </tr>\n",
              "    <tr>\n",
              "      <th>Date</th>\n",
              "      <th></th>\n",
              "      <th></th>\n",
              "      <th></th>\n",
              "      <th></th>\n",
              "      <th></th>\n",
              "      <th></th>\n",
              "      <th></th>\n",
              "      <th></th>\n",
              "    </tr>\n",
              "  </thead>\n",
              "  <tbody>\n",
              "    <tr>\n",
              "      <th>2001-02-01</th>\n",
              "      <td>1366.010010</td>\n",
              "      <td>1373.500000</td>\n",
              "      <td>1359.339966</td>\n",
              "      <td>1373.469971</td>\n",
              "      <td>1373.469971</td>\n",
              "      <td>1118800000</td>\n",
              "      <td>0.005446</td>\n",
              "      <td>0.013880</td>\n",
              "    </tr>\n",
              "    <tr>\n",
              "      <th>2001-02-02</th>\n",
              "      <td>1373.469971</td>\n",
              "      <td>1376.380005</td>\n",
              "      <td>1348.719971</td>\n",
              "      <td>1349.469971</td>\n",
              "      <td>1349.469971</td>\n",
              "      <td>1048400000</td>\n",
              "      <td>-0.017628</td>\n",
              "      <td>0.009985</td>\n",
              "    </tr>\n",
              "    <tr>\n",
              "      <th>2001-02-05</th>\n",
              "      <td>1349.469971</td>\n",
              "      <td>1354.560059</td>\n",
              "      <td>1344.479980</td>\n",
              "      <td>1354.310059</td>\n",
              "      <td>1354.310059</td>\n",
              "      <td>1013000000</td>\n",
              "      <td>0.003580</td>\n",
              "      <td>0.009702</td>\n",
              "    </tr>\n",
              "    <tr>\n",
              "      <th>2001-02-06</th>\n",
              "      <td>1354.310059</td>\n",
              "      <td>1363.550049</td>\n",
              "      <td>1350.040039</td>\n",
              "      <td>1352.260010</td>\n",
              "      <td>1352.260010</td>\n",
              "      <td>1059600000</td>\n",
              "      <td>-0.001515</td>\n",
              "      <td>0.007452</td>\n",
              "    </tr>\n",
              "    <tr>\n",
              "      <th>2001-02-07</th>\n",
              "      <td>1352.260010</td>\n",
              "      <td>1352.260010</td>\n",
              "      <td>1334.260010</td>\n",
              "      <td>1340.890015</td>\n",
              "      <td>1340.890015</td>\n",
              "      <td>1158300000</td>\n",
              "      <td>-0.008444</td>\n",
              "      <td>0.007750</td>\n",
              "    </tr>\n",
              "    <tr>\n",
              "      <th>...</th>\n",
              "      <td>...</td>\n",
              "      <td>...</td>\n",
              "      <td>...</td>\n",
              "      <td>...</td>\n",
              "      <td>...</td>\n",
              "      <td>...</td>\n",
              "      <td>...</td>\n",
              "      <td>...</td>\n",
              "    </tr>\n",
              "    <tr>\n",
              "      <th>2020-10-29</th>\n",
              "      <td>3277.169922</td>\n",
              "      <td>3341.050049</td>\n",
              "      <td>3259.820068</td>\n",
              "      <td>3310.110107</td>\n",
              "      <td>3310.110107</td>\n",
              "      <td>4903070000</td>\n",
              "      <td>0.011877</td>\n",
              "      <td>0.013310</td>\n",
              "    </tr>\n",
              "    <tr>\n",
              "      <th>2020-10-30</th>\n",
              "      <td>3293.590088</td>\n",
              "      <td>3304.929932</td>\n",
              "      <td>3233.939941</td>\n",
              "      <td>3269.959961</td>\n",
              "      <td>3269.959961</td>\n",
              "      <td>4840450000</td>\n",
              "      <td>-0.012204</td>\n",
              "      <td>0.013460</td>\n",
              "    </tr>\n",
              "    <tr>\n",
              "      <th>2020-11-02</th>\n",
              "      <td>3296.199951</td>\n",
              "      <td>3330.139893</td>\n",
              "      <td>3279.739990</td>\n",
              "      <td>3310.239990</td>\n",
              "      <td>3310.239990</td>\n",
              "      <td>4310590000</td>\n",
              "      <td>0.012243</td>\n",
              "      <td>0.013652</td>\n",
              "    </tr>\n",
              "    <tr>\n",
              "      <th>2020-11-03</th>\n",
              "      <td>3336.250000</td>\n",
              "      <td>3389.489990</td>\n",
              "      <td>3336.250000</td>\n",
              "      <td>3369.159912</td>\n",
              "      <td>3369.159912</td>\n",
              "      <td>4220070000</td>\n",
              "      <td>0.017643</td>\n",
              "      <td>0.013640</td>\n",
              "    </tr>\n",
              "    <tr>\n",
              "      <th>2020-11-04</th>\n",
              "      <td>3406.459961</td>\n",
              "      <td>3486.250000</td>\n",
              "      <td>3405.169922</td>\n",
              "      <td>3443.439941</td>\n",
              "      <td>3443.439941</td>\n",
              "      <td>4783040000</td>\n",
              "      <td>0.021808</td>\n",
              "      <td>0.014102</td>\n",
              "    </tr>\n",
              "  </tbody>\n",
              "</table>\n",
              "<p>4972 rows × 8 columns</p>\n",
              "</div>\n",
              "    <div class=\"colab-df-buttons\">\n",
              "\n",
              "  <div class=\"colab-df-container\">\n",
              "    <button class=\"colab-df-convert\" onclick=\"convertToInteractive('df-787b00bd-8497-4a95-b4b2-0975aeb05879')\"\n",
              "            title=\"Convert this dataframe to an interactive table.\"\n",
              "            style=\"display:none;\">\n",
              "\n",
              "  <svg xmlns=\"http://www.w3.org/2000/svg\" height=\"24px\" viewBox=\"0 -960 960 960\">\n",
              "    <path d=\"M120-120v-720h720v720H120Zm60-500h600v-160H180v160Zm220 220h160v-160H400v160Zm0 220h160v-160H400v160ZM180-400h160v-160H180v160Zm440 0h160v-160H620v160ZM180-180h160v-160H180v160Zm440 0h160v-160H620v160Z\"/>\n",
              "  </svg>\n",
              "    </button>\n",
              "\n",
              "  <style>\n",
              "    .colab-df-container {\n",
              "      display:flex;\n",
              "      gap: 12px;\n",
              "    }\n",
              "\n",
              "    .colab-df-convert {\n",
              "      background-color: #E8F0FE;\n",
              "      border: none;\n",
              "      border-radius: 50%;\n",
              "      cursor: pointer;\n",
              "      display: none;\n",
              "      fill: #1967D2;\n",
              "      height: 32px;\n",
              "      padding: 0 0 0 0;\n",
              "      width: 32px;\n",
              "    }\n",
              "\n",
              "    .colab-df-convert:hover {\n",
              "      background-color: #E2EBFA;\n",
              "      box-shadow: 0px 1px 2px rgba(60, 64, 67, 0.3), 0px 1px 3px 1px rgba(60, 64, 67, 0.15);\n",
              "      fill: #174EA6;\n",
              "    }\n",
              "\n",
              "    .colab-df-buttons div {\n",
              "      margin-bottom: 4px;\n",
              "    }\n",
              "\n",
              "    [theme=dark] .colab-df-convert {\n",
              "      background-color: #3B4455;\n",
              "      fill: #D2E3FC;\n",
              "    }\n",
              "\n",
              "    [theme=dark] .colab-df-convert:hover {\n",
              "      background-color: #434B5C;\n",
              "      box-shadow: 0px 1px 3px 1px rgba(0, 0, 0, 0.15);\n",
              "      filter: drop-shadow(0px 1px 2px rgba(0, 0, 0, 0.3));\n",
              "      fill: #FFFFFF;\n",
              "    }\n",
              "  </style>\n",
              "\n",
              "    <script>\n",
              "      const buttonEl =\n",
              "        document.querySelector('#df-787b00bd-8497-4a95-b4b2-0975aeb05879 button.colab-df-convert');\n",
              "      buttonEl.style.display =\n",
              "        google.colab.kernel.accessAllowed ? 'block' : 'none';\n",
              "\n",
              "      async function convertToInteractive(key) {\n",
              "        const element = document.querySelector('#df-787b00bd-8497-4a95-b4b2-0975aeb05879');\n",
              "        const dataTable =\n",
              "          await google.colab.kernel.invokeFunction('convertToInteractive',\n",
              "                                                    [key], {});\n",
              "        if (!dataTable) return;\n",
              "\n",
              "        const docLinkHtml = 'Like what you see? Visit the ' +\n",
              "          '<a target=\"_blank\" href=https://colab.research.google.com/notebooks/data_table.ipynb>data table notebook</a>'\n",
              "          + ' to learn more about interactive tables.';\n",
              "        element.innerHTML = '';\n",
              "        dataTable['output_type'] = 'display_data';\n",
              "        await google.colab.output.renderOutput(dataTable, element);\n",
              "        const docLink = document.createElement('div');\n",
              "        docLink.innerHTML = docLinkHtml;\n",
              "        element.appendChild(docLink);\n",
              "      }\n",
              "    </script>\n",
              "  </div>\n",
              "\n",
              "\n",
              "<div id=\"df-fa1cd12c-1ac3-4f4f-91cd-f8199592b333\">\n",
              "  <button class=\"colab-df-quickchart\" onclick=\"quickchart('df-fa1cd12c-1ac3-4f4f-91cd-f8199592b333')\"\n",
              "            title=\"Suggest charts\"\n",
              "            style=\"display:none;\">\n",
              "\n",
              "<svg xmlns=\"http://www.w3.org/2000/svg\" height=\"24px\"viewBox=\"0 0 24 24\"\n",
              "     width=\"24px\">\n",
              "    <g>\n",
              "        <path d=\"M19 3H5c-1.1 0-2 .9-2 2v14c0 1.1.9 2 2 2h14c1.1 0 2-.9 2-2V5c0-1.1-.9-2-2-2zM9 17H7v-7h2v7zm4 0h-2V7h2v10zm4 0h-2v-4h2v4z\"/>\n",
              "    </g>\n",
              "</svg>\n",
              "  </button>\n",
              "\n",
              "<style>\n",
              "  .colab-df-quickchart {\n",
              "      --bg-color: #E8F0FE;\n",
              "      --fill-color: #1967D2;\n",
              "      --hover-bg-color: #E2EBFA;\n",
              "      --hover-fill-color: #174EA6;\n",
              "      --disabled-fill-color: #AAA;\n",
              "      --disabled-bg-color: #DDD;\n",
              "  }\n",
              "\n",
              "  [theme=dark] .colab-df-quickchart {\n",
              "      --bg-color: #3B4455;\n",
              "      --fill-color: #D2E3FC;\n",
              "      --hover-bg-color: #434B5C;\n",
              "      --hover-fill-color: #FFFFFF;\n",
              "      --disabled-bg-color: #3B4455;\n",
              "      --disabled-fill-color: #666;\n",
              "  }\n",
              "\n",
              "  .colab-df-quickchart {\n",
              "    background-color: var(--bg-color);\n",
              "    border: none;\n",
              "    border-radius: 50%;\n",
              "    cursor: pointer;\n",
              "    display: none;\n",
              "    fill: var(--fill-color);\n",
              "    height: 32px;\n",
              "    padding: 0;\n",
              "    width: 32px;\n",
              "  }\n",
              "\n",
              "  .colab-df-quickchart:hover {\n",
              "    background-color: var(--hover-bg-color);\n",
              "    box-shadow: 0 1px 2px rgba(60, 64, 67, 0.3), 0 1px 3px 1px rgba(60, 64, 67, 0.15);\n",
              "    fill: var(--button-hover-fill-color);\n",
              "  }\n",
              "\n",
              "  .colab-df-quickchart-complete:disabled,\n",
              "  .colab-df-quickchart-complete:disabled:hover {\n",
              "    background-color: var(--disabled-bg-color);\n",
              "    fill: var(--disabled-fill-color);\n",
              "    box-shadow: none;\n",
              "  }\n",
              "\n",
              "  .colab-df-spinner {\n",
              "    border: 2px solid var(--fill-color);\n",
              "    border-color: transparent;\n",
              "    border-bottom-color: var(--fill-color);\n",
              "    animation:\n",
              "      spin 1s steps(1) infinite;\n",
              "  }\n",
              "\n",
              "  @keyframes spin {\n",
              "    0% {\n",
              "      border-color: transparent;\n",
              "      border-bottom-color: var(--fill-color);\n",
              "      border-left-color: var(--fill-color);\n",
              "    }\n",
              "    20% {\n",
              "      border-color: transparent;\n",
              "      border-left-color: var(--fill-color);\n",
              "      border-top-color: var(--fill-color);\n",
              "    }\n",
              "    30% {\n",
              "      border-color: transparent;\n",
              "      border-left-color: var(--fill-color);\n",
              "      border-top-color: var(--fill-color);\n",
              "      border-right-color: var(--fill-color);\n",
              "    }\n",
              "    40% {\n",
              "      border-color: transparent;\n",
              "      border-right-color: var(--fill-color);\n",
              "      border-top-color: var(--fill-color);\n",
              "    }\n",
              "    60% {\n",
              "      border-color: transparent;\n",
              "      border-right-color: var(--fill-color);\n",
              "    }\n",
              "    80% {\n",
              "      border-color: transparent;\n",
              "      border-right-color: var(--fill-color);\n",
              "      border-bottom-color: var(--fill-color);\n",
              "    }\n",
              "    90% {\n",
              "      border-color: transparent;\n",
              "      border-bottom-color: var(--fill-color);\n",
              "    }\n",
              "  }\n",
              "</style>\n",
              "\n",
              "  <script>\n",
              "    async function quickchart(key) {\n",
              "      const quickchartButtonEl =\n",
              "        document.querySelector('#' + key + ' button');\n",
              "      quickchartButtonEl.disabled = true;  // To prevent multiple clicks.\n",
              "      quickchartButtonEl.classList.add('colab-df-spinner');\n",
              "      try {\n",
              "        const charts = await google.colab.kernel.invokeFunction(\n",
              "            'suggestCharts', [key], {});\n",
              "      } catch (error) {\n",
              "        console.error('Error during call to suggestCharts:', error);\n",
              "      }\n",
              "      quickchartButtonEl.classList.remove('colab-df-spinner');\n",
              "      quickchartButtonEl.classList.add('colab-df-quickchart-complete');\n",
              "    }\n",
              "    (() => {\n",
              "      let quickchartButtonEl =\n",
              "        document.querySelector('#df-fa1cd12c-1ac3-4f4f-91cd-f8199592b333 button');\n",
              "      quickchartButtonEl.style.display =\n",
              "        google.colab.kernel.accessAllowed ? 'block' : 'none';\n",
              "    })();\n",
              "  </script>\n",
              "</div>\n",
              "\n",
              "  <div id=\"id_2ab76b41-5f68-46d5-a4fc-0bdb932b7ad2\">\n",
              "    <style>\n",
              "      .colab-df-generate {\n",
              "        background-color: #E8F0FE;\n",
              "        border: none;\n",
              "        border-radius: 50%;\n",
              "        cursor: pointer;\n",
              "        display: none;\n",
              "        fill: #1967D2;\n",
              "        height: 32px;\n",
              "        padding: 0 0 0 0;\n",
              "        width: 32px;\n",
              "      }\n",
              "\n",
              "      .colab-df-generate:hover {\n",
              "        background-color: #E2EBFA;\n",
              "        box-shadow: 0px 1px 2px rgba(60, 64, 67, 0.3), 0px 1px 3px 1px rgba(60, 64, 67, 0.15);\n",
              "        fill: #174EA6;\n",
              "      }\n",
              "\n",
              "      [theme=dark] .colab-df-generate {\n",
              "        background-color: #3B4455;\n",
              "        fill: #D2E3FC;\n",
              "      }\n",
              "\n",
              "      [theme=dark] .colab-df-generate:hover {\n",
              "        background-color: #434B5C;\n",
              "        box-shadow: 0px 1px 3px 1px rgba(0, 0, 0, 0.15);\n",
              "        filter: drop-shadow(0px 1px 2px rgba(0, 0, 0, 0.3));\n",
              "        fill: #FFFFFF;\n",
              "      }\n",
              "    </style>\n",
              "    <button class=\"colab-df-generate\" onclick=\"generateWithVariable('df')\"\n",
              "            title=\"Generate code using this dataframe.\"\n",
              "            style=\"display:none;\">\n",
              "\n",
              "  <svg xmlns=\"http://www.w3.org/2000/svg\" height=\"24px\"viewBox=\"0 0 24 24\"\n",
              "       width=\"24px\">\n",
              "    <path d=\"M7,19H8.4L18.45,9,17,7.55,7,17.6ZM5,21V16.75L18.45,3.32a2,2,0,0,1,2.83,0l1.4,1.43a1.91,1.91,0,0,1,.58,1.4,1.91,1.91,0,0,1-.58,1.4L9.25,21ZM18.45,9,17,7.55Zm-12,3A5.31,5.31,0,0,0,4.9,8.1,5.31,5.31,0,0,0,1,6.5,5.31,5.31,0,0,0,4.9,4.9,5.31,5.31,0,0,0,6.5,1,5.31,5.31,0,0,0,8.1,4.9,5.31,5.31,0,0,0,12,6.5,5.46,5.46,0,0,0,6.5,12Z\"/>\n",
              "  </svg>\n",
              "    </button>\n",
              "    <script>\n",
              "      (() => {\n",
              "      const buttonEl =\n",
              "        document.querySelector('#id_2ab76b41-5f68-46d5-a4fc-0bdb932b7ad2 button.colab-df-generate');\n",
              "      buttonEl.style.display =\n",
              "        google.colab.kernel.accessAllowed ? 'block' : 'none';\n",
              "\n",
              "      buttonEl.onclick = () => {\n",
              "        google.colab.notebook.generateWithVariable('df');\n",
              "      }\n",
              "      })();\n",
              "    </script>\n",
              "  </div>\n",
              "\n",
              "    </div>\n",
              "  </div>\n"
            ],
            "application/vnd.google.colaboratory.intrinsic+json": {
              "type": "dataframe",
              "variable_name": "df",
              "summary": "{\n  \"name\": \"df\",\n  \"rows\": 4972,\n  \"fields\": [\n    {\n      \"column\": \"Date\",\n      \"properties\": {\n        \"dtype\": \"date\",\n        \"min\": \"2001-02-01 00:00:00\",\n        \"max\": \"2020-11-04 00:00:00\",\n        \"num_unique_values\": 4972,\n        \"samples\": [\n          \"2008-09-02 00:00:00\",\n          \"2017-01-12 00:00:00\",\n          \"2017-08-18 00:00:00\"\n        ],\n        \"semantic_type\": \"\",\n        \"description\": \"\"\n      }\n    },\n    {\n      \"column\": \"Open\",\n      \"properties\": {\n        \"dtype\": \"number\",\n        \"std\": 670.0466163308693,\n        \"min\": 679.280029,\n        \"max\": 3564.73999,\n        \"num_unique_values\": 4878,\n        \"samples\": [\n          2019.27002,\n          1095.890015,\n          1128.369995\n        ],\n        \"semantic_type\": \"\",\n        \"description\": \"\"\n      }\n    },\n    {\n      \"column\": \"High\",\n      \"properties\": {\n        \"dtype\": \"number\",\n        \"std\": 672.1879588034778,\n        \"min\": 695.27002,\n        \"max\": 3588.110107,\n        \"num_unique_values\": 4875,\n        \"samples\": [\n          1477.880005,\n          2767.560059,\n          1461.22998\n        ],\n        \"semantic_type\": \"\",\n        \"description\": \"\"\n      }\n    },\n    {\n      \"column\": \"Low\",\n      \"properties\": {\n        \"dtype\": \"number\",\n        \"std\": 667.5539919958186,\n        \"min\": 666.789978,\n        \"max\": 3535.22998,\n        \"num_unique_values\": 4886,\n        \"samples\": [\n          1225.150024,\n          870.5,\n          1294.869995\n        ],\n        \"semantic_type\": \"\",\n        \"description\": \"\"\n      }\n    },\n    {\n      \"column\": \"Close\",\n      \"properties\": {\n        \"dtype\": \"number\",\n        \"std\": 670.0832596974344,\n        \"min\": 676.530029,\n        \"max\": 3580.840088,\n        \"num_unique_values\": 4877,\n        \"samples\": [\n          1172.869995,\n          1995.689941,\n          1126.069946\n        ],\n        \"semantic_type\": \"\",\n        \"description\": \"\"\n      }\n    },\n    {\n      \"column\": \"Adj Close\",\n      \"properties\": {\n        \"dtype\": \"number\",\n        \"std\": 670.0832596974344,\n        \"min\": 676.530029,\n        \"max\": 3580.840088,\n        \"num_unique_values\": 4877,\n        \"samples\": [\n          1172.869995,\n          1995.689941,\n          1126.069946\n        ],\n        \"semantic_type\": \"\",\n        \"description\": \"\"\n      }\n    },\n    {\n      \"column\": \"Volume\",\n      \"properties\": {\n        \"dtype\": \"number\",\n        \"std\": 1470759854,\n        \"min\": 356070000,\n        \"max\": 11456230000,\n        \"num_unique_values\": 4855,\n        \"samples\": [\n          3366310000,\n          5067310000,\n          3645270000\n        ],\n        \"semantic_type\": \"\",\n        \"description\": \"\"\n      }\n    },\n    {\n      \"column\": \"Returns\",\n      \"properties\": {\n        \"dtype\": \"number\",\n        \"std\": 0.01249476621835821,\n        \"min\": -0.12765219756714355,\n        \"max\": 0.10957196767787107,\n        \"num_unique_values\": 4970,\n        \"samples\": [\n          -0.0031583262753101635,\n          -0.00828913667207091,\n          -0.01198569248844029\n        ],\n        \"semantic_type\": \"\",\n        \"description\": \"\"\n      }\n    },\n    {\n      \"column\": \"Volatility\",\n      \"properties\": {\n        \"dtype\": \"number\",\n        \"std\": 0.0071965970957592156,\n        \"min\": 0.0021851553313692504,\n        \"max\": 0.061453983379507804,\n        \"num_unique_values\": 4972,\n        \"samples\": [\n          0.013048429623270007,\n          0.004431534945990951,\n          0.005384871825684665\n        ],\n        \"semantic_type\": \"\",\n        \"description\": \"\"\n      }\n    }\n  ]\n}"
            }
          },
          "metadata": {},
          "execution_count": 205
        }
      ],
      "source": [
        "#logarithms of prices\n",
        "df[\"Returns\"] = np.log(df[\"Close\"] / df[\"Close\"].shift(1))\n",
        "df[\"Volatility\"] = df[\"Returns\"].rolling(window = 21).std() #we take one trading month(21days) as a window size\n",
        "df = df.dropna()\n",
        "df"
      ]
    },
    {
      "cell_type": "markdown",
      "source": [
        "Plotting for returns vs. date:"
      ],
      "metadata": {
        "id": "jp-j9vBJrvR4"
      }
    },
    {
      "cell_type": "code",
      "execution_count": 206,
      "metadata": {
        "id": "799ceb5a-b06c-47f4-ac43-bdc7c0bef49b",
        "colab": {
          "base_uri": "https://localhost:8080/",
          "height": 564
        },
        "outputId": "e10ca690-d61c-4cff-ab40-0a5a3fc23233"
      },
      "outputs": [
        {
          "output_type": "display_data",
          "data": {
            "text/plain": [
              "<Figure size 1200x600 with 1 Axes>"
            ],
            "image/png": "[encoded data removed]"
          },
          "metadata": {}
        }
      ],
      "source": [
        "# ten years of S&P 5000 daily return\n",
        "plt.figure(figsize=(12,6))\n",
        "plt.plot(df[\"Returns\"], label=\"Daily Returns\", color=\"blue\", alpha=0.6)\n",
        "plt.axhline(y=0, color=\"black\", linestyle=\"--\")\n",
        "plt.xlabel(\"Date\")\n",
        "plt.ylabel(\"Returns\")\n",
        "plt.title(\"S&P 500 Daily Returns\")\n",
        "plt.legend()\n",
        "plt.show()"
      ]
    },
    {
      "cell_type": "markdown",
      "source": [
        "Plotting the relationship between volatility and date:"
      ],
      "metadata": {
        "id": "TYvj00p1ry4D"
      }
    },
    {
      "cell_type": "code",
      "source": [
        "# ten years of S&P 5000 volatility\n",
        "plt.figure(figsize=(12,6))\n",
        "plt.plot(df[\"Volatility\"], label=\"21-day Rolling Volatility\", color=\"red\")\n",
        "plt.xlabel(\"Date\")\n",
        "plt.ylabel(\"Volatility\")\n",
        "plt.title(\"S&P 500\")\n",
        "plt.legend()\n",
        "plt.show()"
      ],
      "metadata": {
        "colab": {
          "base_uri": "https://localhost:8080/",
          "height": 564
        },
        "id": "cKbrlZW87gca",
        "outputId": "a03898fb-327d-4f57-8664-ec368985383b"
      },
      "execution_count": 207,
      "outputs": [
        {
          "output_type": "display_data",
          "data": {
            "text/plain": [
              "<Figure size 1200x600 with 1 Axes>"
            ],
            "image/png": "[encoded data removed]"
          },
          "metadata": {}
        }
      ]
    },
    {
      "cell_type": "markdown",
      "source": [
        "We see that high and low return values almost \"cluster\" together, with nascent successive and previous values closely mirroring present returns. This is an indication of volatility clustering."
      ],
      "metadata": {
        "id": "vkZIS0TpsJTf"
      }
    },
    {
      "cell_type": "markdown",
      "source": [
        "To verify whether the volatility truly exhibits clustering, the Autocorrelation Function (ACF) is used.\n",
        "If the ACF is significantly greater than zero, this is a prime indicator for volatility clustering. Volatility would be random if the ACF is close to zero."
      ],
      "metadata": {
        "id": "g4QpXOfXsMzl"
      }
    },
    {
      "cell_type": "code",
      "source": [
        "#calculate the Autocorrelation Function, ACF）\n",
        "acf_values = acf(df[\"Volatility\"].dropna(), nlags=50) #we take 50-days as lagging\n",
        "acf_values"
      ],
      "metadata": {
        "colab": {
          "base_uri": "https://localhost:8080/"
        },
        "id": "rDRG9b0q7ly9",
        "outputId": "15cf729c-5a16-473a-f917-c02ebcd435ff"
      },
      "execution_count": 208,
      "outputs": [
        {
          "output_type": "execute_result",
          "data": {
            "text/plain": [
              "array([1.        , 0.99461757, 0.98797563, 0.97935209, 0.96927661,\n",
              "       0.95787768, 0.94491768, 0.93076442, 0.91547892, 0.89922917,\n",
              "       0.88206857, 0.86402773, 0.84495814, 0.82553064, 0.80596511,\n",
              "       0.78625116, 0.76653189, 0.7466245 , 0.72666482, 0.70678205,\n",
              "       0.68750185, 0.66827875, 0.653289  , 0.63868727, 0.62456928,\n",
              "       0.61125962, 0.59866555, 0.58697386, 0.57562119, 0.56451952,\n",
              "       0.55376691, 0.54346094, 0.53384313, 0.52482023, 0.51598616,\n",
              "       0.50702262, 0.49858765, 0.49040175, 0.48274567, 0.47539172,\n",
              "       0.46795053, 0.46089625, 0.45435353, 0.44820749, 0.44216721,\n",
              "       0.43643761, 0.43061833, 0.4248031 , 0.41896526, 0.41335629,\n",
              "       0.40805515])"
            ]
          },
          "metadata": {},
          "execution_count": 208
        }
      ]
    },
    {
      "cell_type": "code",
      "source": [
        "# plot\n",
        "plt.figure(figsize=(10,5))\n",
        "plt.bar(range(1, 21), acf_values[1:21], color=\"blue\", alpha=0.7)\n",
        "plt.xlabel(\"Lag\")\n",
        "plt.ylabel(\"ACFk\")\n",
        "plt.title(\"Volatility Clustering\")\n",
        "plt.show()"
      ],
      "metadata": {
        "colab": {
          "base_uri": "https://localhost:8080/",
          "height": 487
        },
        "id": "T7kAmM137n-T",
        "outputId": "94c84789-61e0-42a5-d547-f1481d363416"
      },
      "execution_count": 209,
      "outputs": [
        {
          "output_type": "display_data",
          "data": {
            "text/plain": [
              "<Figure size 1000x500 with 1 Axes>"
            ],
            "image/png": "[encoded data removed]"
          },
          "metadata": {}
        }
      ]
    },
    {
      "cell_type": "markdown",
      "source": [
        "We can see that the greater the time has passed, the lower the correlation!\n",
        "This confirms our hypotheses."
      ],
      "metadata": {
        "id": "lKCnBLpSs5S3"
      }
    },
    {
      "cell_type": "markdown",
      "metadata": {
        "id": "MJ-WsaCgmwhX"
      },
      "source": [
        "#Part 2 - Plotting the relationship between volatility and returns"
      ]
    },
    {
      "cell_type": "markdown",
      "source": [
        "Now we are curious regarding the relationship between Volatility and return."
      ],
      "metadata": {
        "id": "XSmJSmq7vC40"
      }
    },
    {
      "cell_type": "code",
      "execution_count": 210,
      "metadata": {
        "id": "SHrX1t9KmwhX"
      },
      "outputs": [],
      "source": [
        "vix_series = vix_df['VIX_Close'].rename(\"VIX\")\n",
        "df = df.join(vix_series, how=\"inner\")\n",
        "\n",
        "\n",
        "#inital renaming and prepping"
      ]
    },
    {
      "cell_type": "code",
      "source": [
        "from scipy.stats import pearsonr\n",
        "corr_volatility_returns, _ = pearsonr(df[\"VIX\"].dropna(), df[\"Returns\"].dropna())\n",
        "print(f\"correlation between volatility(VIX) and returns: {corr_volatility_returns:.4f}\")\n",
        "\n"
      ],
      "metadata": {
        "colab": {
          "base_uri": "https://localhost:8080/"
        },
        "id": "pbwWhAqV89q8",
        "outputId": "9d8224e0-8cf8-4764-fd64-20f4ed58b2d3"
      },
      "execution_count": 211,
      "outputs": [
        {
          "output_type": "stream",
          "name": "stdout",
          "text": [
            "correlation between volatility(VIX) and returns: -0.1394\n"
          ]
        }
      ]
    },
    {
      "cell_type": "markdown",
      "source": [
        "A negative correlation of -0.1394 suggests a weak relationship between volatility and returns. Higher values of VIX tend to associate with lower returns."
      ],
      "metadata": {
        "id": "iY0aJazSvz0b"
      }
    },
    {
      "cell_type": "code",
      "source": [
        "plt.figure(figsize=(8,5))\n",
        "sns.scatterplot(x=df[\"Returns\"], y=df[\"VIX\"], alpha=0.3)\n",
        "plt.xlabel(\"Returns\")\n",
        "plt.ylabel(\"Volatility\")\n",
        "plt.title(\"return vs. volatility\")\n",
        "plt.axvline(x=0, color=\"black\", linestyle=\"--\")\n",
        "plt.axhline(y=df[\"VIX\"].mean(), color=\"red\", linestyle=\"--\", label=\"Mean Volatility\")\n",
        "plt.legend()\n",
        "plt.show()"
      ],
      "metadata": {
        "colab": {
          "base_uri": "https://localhost:8080/",
          "height": 487
        },
        "id": "pgAP5kQf9Fm_",
        "outputId": "c1499089-3e08-4a85-f553-5ddd1b023528"
      },
      "execution_count": 212,
      "outputs": [
        {
          "output_type": "display_data",
          "data": {
            "text/plain": [
              "<Figure size 800x500 with 1 Axes>"
            ],
            "image/png": "[encoded data removed]"
          },
          "metadata": {}
        }
      ]
    },
    {
      "cell_type": "markdown",
      "source": [
        "We see that volatility is asymmetric with returns, reinforcing weak correlation between volatility and returns.\n",
        "We now proceed to calcluate statistical significance using P-value."
      ],
      "metadata": {
        "id": "lHib4KymwY8O"
      }
    },
    {
      "cell_type": "code",
      "source": [
        "corr_vix, p_value = pearsonr(df[\"VIX\"].dropna(), df[\"Returns\"].dropna())\n",
        "\n",
        "print(f\"correlation between VIX and returns: {corr_vix:.4f}\")\n",
        "print(f\"p-value: {p_value:.4f}\")\n"
      ],
      "metadata": {
        "colab": {
          "base_uri": "https://localhost:8080/"
        },
        "id": "3U9fexE6-WU1",
        "outputId": "6767769b-ab6c-405b-83b6-15cac7873f18"
      },
      "execution_count": 213,
      "outputs": [
        {
          "output_type": "stream",
          "name": "stdout",
          "text": [
            "correlation between VIX and returns: -0.1394\n",
            "p-value: 0.0000\n"
          ]
        }
      ]
    },
    {
      "cell_type": "markdown",
      "source": [
        "p = 0 indicates that this is statistically significant, and that the relationship is NOT due to random chance."
      ],
      "metadata": {
        "id": "-dFgZuk1xFrm"
      }
    },
    {
      "cell_type": "code",
      "source": [
        "# （Returns > 0）\n",
        "df_up = df[df[\"Returns\"] > 0]\n",
        "mean_vix_up = df_up[\"VIX\"].mean()\n",
        "std_vix_up = df_up[\"VIX\"].std()\n",
        "corr_vix_up, _ = pearsonr(df_up[\"VIX\"], df_up[\"Returns\"])\n",
        "\n",
        "# （Returns < 0）\n",
        "df_down = df[df[\"Returns\"] < 0]\n",
        "mean_vix_down = df_down[\"VIX\"].mean()\n",
        "std_vix_down = df_down[\"VIX\"].std()\n",
        "corr_vix_down, _ = pearsonr(df_down[\"VIX\"], df_down[\"Returns\"])\n",
        "\n",
        "print(f\"when the market goes up the mean value is: {mean_vix_up:.4f}, sd: {std_vix_up:.4f}, correlation: {corr_vix_up:.4f}\")\n",
        "print(f\"when the market goes down the mean value is: {mean_vix_down:.4f}, sd: {std_vix_down:.4f}, correlation: {corr_vix_down:.4f}\")\n"
      ],
      "metadata": {
        "colab": {
          "base_uri": "https://localhost:8080/"
        },
        "id": "T2C3ELQa9QIa",
        "outputId": "cc0cec58-1b1b-4c32-eff6-cc7d6e9e4173"
      },
      "execution_count": 214,
      "outputs": [
        {
          "output_type": "stream",
          "name": "stdout",
          "text": [
            "when the market goes up the mean value is: 18.8463, sd: 8.4627, correlation: 0.5543\n",
            "when the market goes down the mean value is: 20.7953, sd: 9.7770, correlation: -0.6542\n"
          ]
        }
      ]
    },
    {
      "cell_type": "markdown",
      "source": [
        "#Conclusion\n",
        "PART 1 - We have shown volatility clustering, and have proved that Long time series of returns always display volatility clustering\n",
        "\n",
        "PART 2 - There is a Negative correlation between volatility and return. The relationship itself is NOT LINEAR, instead being asymmetric (Volatility is more likely to increase when the stock market falls, which is when leverage (the debt/equity ratio) increases.\n"
      ],
      "metadata": {
        "id": "lIhQMpMfm0vM"
      }
    },
    {
      "cell_type": "markdown",
      "metadata": {
        "id": "_2PgZSjOmwhX"
      },
      "source": [
        "# Ethics & Privacy"
      ]
    },
    {
      "cell_type": "markdown",
      "source": [
        "#1. Bias and Fairness\n",
        "\n",
        "Data is sourced from publicly available financial datasets, eliminating privacy concerns. Data has been anonymized, ensuring privacy for all actors, as those details are unnecessary for this project. However, our dataset may be biased toward developed markets (e.g., S&P 500, Nasdaq) and exclude emerging market trends, which could limit the generalizability of the analysis to global markets.\n",
        "\n",
        "\n",
        "- **Geographic Bias**: Singular focus on the United States, leading to limited global economic insights.\n",
        "\n",
        "- **Analysis Approach**:\n",
        "  - Before: Conduct EDA to check for anomalies.\n",
        "  - During: Trimming/Winsorization to avoid outlier distortion.\n",
        "  - After: Compare with alternate datasets, mitigating bias towards larger stocks.\n",
        "  - Limitation: Does not account for options, bonds and other assets."
      ],
      "metadata": {
        "id": "ynvvo3JSw1Zx"
      }
    },
    {
      "cell_type": "markdown",
      "metadata": {
        "id": "x-y6lgfkmwhX"
      },
      "source": [
        "#2. Terms of Use & Transparency\n",
        "- Ensure compliance with API usage limits and data provider policies.\n",
        "- Clearly document data sources and methodology in our final report."
      ]
    },
    {
      "cell_type": "markdown",
      "source": [
        "# 3. Potential Limitations & Mitigation Strategies\n",
        "- Historical data may not fully represent future market behavior.\n",
        "   - We will acknowledge this limitation and avoid overfitting models.\n",
        "- Black Swan events (e.g., COVID-19 crash) could distort results.\n",
        "   - Using Skewness to control for volatility changes due to COVID-19.\n",
        "   - Winsorization/Trimming for extreme values.\n",
        "- **Survivorship Bias**: Companies that get delisted or fail are not considered, distorting historical trends.\n",
        "  - Mitigation: Add delisted companies to our S&P 500 database by including delisted stocks (Bloomberg) or impute estimated returns based on similar companies and performances.\n",
        "- Dropped the most recent five years in the S&P500 dataset\n",
        "  - Mitigation - The tail end itself is cut off, but this does not significantly impact the entire distribution\n",
        "- Failed to incorporate VVIX due to insufficient and incomplete data, and it is more convenient to use th standard deviation of VIX directly than to proceed with VVIX."
      ],
      "metadata": {
        "id": "XtviZsJCx8UA"
      }
    },
    {
      "cell_type": "markdown",
      "metadata": {
        "id": "XZVqz8kJmwhX"
      },
      "source": [
        "# Team Expectations"
      ]
    },
    {
      "cell_type": "markdown",
      "metadata": {
        "id": "JxFa1PRwmwhX"
      },
      "source": [
        "* *Expectations around communication*: We use Discord and Google Meet to communicate. We choose a weekly “group leader” based on popular vote; the group leader follows-ups/allocate tasks as needed. We also have committed to a 3-day response time at the most for project related texts, and have also shared our phone numbers with each other in case of emergency. We share and talk about our ideas every M-W-F in discord group channel and have at least one online meeting during the weekends.\n",
        "\n",
        "* *Expectations around tone*: Be patient and polite to others’ speeches and ideas. Whether you agree or disagree with others’ opinions, you can show off your opinions only after listening to others’ presentations i.e letting a group member finish before talking. Be friendly to each other and feel free to ask questions if you do not get others’ opinions. Constructive criticism is always welcome. If conflict during a task does arise, both parties involved can either nominate an impartial negotiator from the remaining group members if necessary.\n",
        "\n",
        "* *Expectations around decision making*: Everything will be based on popular vote. If you have other ideas, you can share and we discuss which one is better for our project. If a decision has to be made in a short time frame and a teammate is non-responsive, the group leader makes the decision at their own discretion and then addresses the situation during the weekly meeting.\n",
        "\n",
        "* *Expectations around tasks*: Everyone must choose at least three areas you feel comfortable to work with and be responsible for your work. When you finish your work, you can send it to the discord group channel and highlight it. We will update the goals per week in our discord group channel, reacting with a check mark if you finish your work. Teammates should present the tasks they complete in the weekly meeting in order to ensure everything is on board.\n",
        "\n",
        "If someone cannot finish his work before the deadline, do not panic and speak up in the discord group channel. We understand that life can have complications, and consequently communication is critical to success in this group project. If we cannot get in touch with someone for a long time, which is **2 successive group meetings** missed, we will either leave a voice message and make note of it in the project report. Teammates can still make up for unexpected leave through completing overdue tasks. If this still does not work, we will consider you as inactive in the group project and report you during team evaluation."
      ]
    },
    {
      "cell_type": "markdown",
      "metadata": {
        "id": "s939dVHemwhY"
      },
      "source": [
        "# Project Timeline Proposal"
      ]
    },
    {
      "cell_type": "markdown",
      "metadata": {
        "id": "fkxolFFxmwhY"
      },
      "source": [
        "\n",
        "\n",
        "| Meeting Date  | Meeting Time| Completed Before Meeting  | Discuss at Meeting |\n",
        "|---|---|---|---|\n",
        "| 2/23  |  4 PM | Dataset collection, Cleaning, Literature Review  | Discuss VVIX vs VIX, Submit Checkpoint 1 |\n",
        "| 2/27  |  3 PM |  EDA template discussed | Discuss dataset controls, implement regression |\n",
        "| 3/6  | 3 PM  | First round of analysis  | Evaluate results, debugging, faculty advice |\n",
        "| 3/9  | 3 PM  | Refine analysis | Finalize key findings   |\n",
        "| 3/10  | 3 PM  | Complete draft| Submit EDA |\n",
        "| 3/12  | 3 PM  | Discuss the second question, and its potential applicability | Complete Trading days code\n",
        "| 3/20  | Before 11:59 PM  | Final submission | Turn in Final Project & Group Project Surveys |"
      ]
    },
    {
      "cell_type": "code",
      "source": [],
      "metadata": {
        "id": "p3vc8_uCu7j_"
      },
      "execution_count": null,
      "outputs": []
    }
  ],
  "metadata": {
    "kernelspec": {
      "display_name": "Python 3 (ipykernel)",
      "language": "python",
      "name": "python3"
    },
    "language_info": {
      "codemirror_mode": {
        "name": "ipython",
        "version": 3
      },
      "file_extension": ".py",
      "mimetype": "text/x-python",
      "name": "python",
      "nbconvert_exporter": "python",
      "pygments_lexer": "ipython3",
      "version": "3.9.7"
    },
    "colab": {
      "provenance": [],
      "include_colab_link": true
    }
  },
  "nbformat": 4,
  "nbformat_minor": 0
}